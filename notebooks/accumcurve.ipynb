{
 "cells": [
  {
   "cell_type": "markdown",
   "id": "77b9e9ce",
   "metadata": {},
   "source": [
    "## Create accumulation curves\n",
    "- One curve in one plot\n",
    "- Multiple curves in 1 plot\n",
    "- Change richness into somehtin thats not italic"
   ]
  },
  {
   "cell_type": "code",
   "execution_count": null,
   "id": "1e08c8eb",
   "metadata": {
    "vscode": {
     "languageId": "r"
    }
   },
   "outputs": [],
   "source": [
    "# load R packages \n",
    "library(vegan)\n",
    "library(dplyr)\n",
    "library(tidyr)\n",
    "library(tidyverse)"
   ]
  },
  {
   "cell_type": "code",
   "execution_count": null,
   "id": "97af689c",
   "metadata": {
    "vscode": {
     "languageId": "r"
    }
   },
   "outputs": [],
   "source": [
    "# one curve one plot\n",
    "# Load in the OTU data (this table contains integers instead of values with a comma)\n",
    "otu1 <- read.table(\"./csv_out/mags.all.csv\", sep=\",\", header=T, row.names=1)\n",
    "\n",
    "# transpose (rows=OTUs, columns=sample)\n",
    "otu <- t(otu1)\n",
    "sp.all <- specaccum(otu, method = \"random\", permutations = 100)\n",
    "\n",
    "# Extract each of the permutations and reformat\n",
    "perm <- sp.all$perm\n",
    "\n",
    "perm.tidy <- as.tibble(perm) %>% \n",
    "  mutate(Sites = 1:nrow(.)) %>% \n",
    "  gather(key = \"Permutation\", value = \"Species\", -Sites) \n",
    "\n",
    "# Extract the consensus richness per number of sites sampled and reformat\n",
    "richness <- data.frame(Sites = sp.all$sites, Species = sp.all$richness)\n",
    "\n",
    "# create the actual plot\n",
    "pdf('accumplot_all.mag.pdf')\n",
    "ggplot(perm.tidy, aes(Sites, Species)) +\n",
    "  geom_point(alpha = 0.3, shape = 1, size = 2, color='#2a9d8f') +\n",
    "  #scale_color_brewer(palette = my_palette) +\n",
    "  geom_line(data = richness, size = 1) +\n",
    "  labs(y= \"# MAGs\", x = \"Samples\") +\n",
    "  theme_bw() +\n",
    "  theme(text = element_text(size = 18))\n",
    "dev.off()"
   ]
  },
  {
   "cell_type": "code",
   "execution_count": null,
   "id": "e6bce191",
   "metadata": {
    "vscode": {
     "languageId": "r"
    }
   },
   "outputs": [],
   "source": [
    "# multiple curves in 1 plot (can probs write a function but idk how to create functions in R)\n",
    "otu_all1 <- read.table(\"./csv_out/mags.all.csv\", sep=\",\", header=T, row.names=1)\n",
    "otu_991 <- read.table(\"./csv_out/mags.99.csv\", sep=\",\", header=T, row.names=1)\n",
    "otu_951 <- read.table(\"./csv_out/mags.95.csv\", sep=\",\", header=T, row.names=1)\n",
    "\n",
    "# transpose\n",
    "otu_all <- t(otu_all1)\n",
    "otu_99 <- t(otu_991)\n",
    "otu_95 <- t(otu_951)\n",
    "\n",
    "# accumulation curves\n",
    "sp.all <- specaccum(otu_all, method = \"random\", permutations = 100)\n",
    "sp.99 <- specaccum(otu_99, method = \"random\", permutations = 100)\n",
    "sp.95 <- specaccum(otu_95, method = \"random\", permutations = 100)\n"
   ]
  },
  {
   "cell_type": "code",
   "execution_count": null,
   "id": "98cf8c73",
   "metadata": {
    "vscode": {
     "languageId": "r"
    }
   },
   "outputs": [],
   "source": [
    "# Extract permutations and reformat\n",
    "perm <- sp.all$perm\n",
    "\n",
    "perm.tidy <- as.tibble(perm) %>% \n",
    "  mutate(Sites = 1:nrow(.)) %>% \n",
    "  gather(key = \"Permutation\", value = \"Species\", -Sites) \n",
    "\n",
    "# Extract the consensus richness per number of sites sampled and reformat\n",
    "richness <- data.frame(Sites = sp.all$sites, Species=sp.all$richness)\n",
    "\n",
    "# Extract permutations and reformat\n",
    "perm.99 <- sp.99$perm\n",
    "\n",
    "perm.99.tidy <- as.tibble(perm.99) %>% \n",
    "  mutate(Sites = 1:nrow(.)) %>% \n",
    "  gather(key = \"Permutation\", value = \"Species\", -Sites) \n",
    "\n",
    "# Extract the consensus richness per number of sites sampled and reformat\n",
    "richness.99 <- data.frame(Sites = sp.99$sites, Species=sp.99$richness)\n",
    "\n",
    "# Extract permutations and reformat\n",
    "perm.95 <- sp.95$perm\n",
    "\n",
    "perm.95.tidy <- as.tibble(perm.95) %>% \n",
    "  mutate(Sites = 1:nrow(.)) %>% \n",
    "  gather(key = \"Permutation\", value = \"Species\", -Sites) \n",
    "\n",
    "# Extract the consensus richness per number of sites sampled and reformat\n",
    "richness.95 <- data.frame(Sites = sp.95$sites, Species=sp.95$richness)"
   ]
  },
  {
   "cell_type": "code",
   "execution_count": null,
   "id": "189aa39a",
   "metadata": {
    "vscode": {
     "languageId": "r"
    }
   },
   "outputs": [],
   "source": [
    "# combine results \n",
    "all.perm  <- rbind(mutate(perm.tidy, Extraction = \"all MAGs\"),\n",
    "                  mutate(perm.99.tidy, Extraction = \"99% ANI clust\"),\n",
    "                   mutate(perm.95.tidy, Extraction = \"95% ANI clust\"))\n",
    "all.richness  <- rbind(mutate(richness, Extraction = \"all MAGs\"),\n",
    "                     mutate(richness.99, Extraction = \"99% ANI clust\"),\n",
    "                      mutate(richness.95, Extraction = \"95% ANI clust\"))"
   ]
  },
  {
   "cell_type": "code",
   "execution_count": null,
   "id": "e97cae45",
   "metadata": {
    "vscode": {
     "languageId": "r"
    }
   },
   "outputs": [],
   "source": [
    "# create the actual plot\n",
    "pdf('accumplot_all_3_clust.pdf')\n",
    "ggplot(all.perm, aes(Sites, Species, color = Extraction)) +\n",
    "  geom_point(alpha = 0.3, shape = 1, size = 2) +\n",
    "  scale_color_manual(values = c(\"#2a9d8f\", \"#e9c46a\", '#e76f51')) + \n",
    "  geom_line(data = all.richness, size = 1) +\n",
    "  labs(y= \"# MAGs\", x = \"Samples\") +\n",
    "  theme_bw() +\n",
    "  theme(text = element_text(size = 18))\n",
    "dev.off()\n"
   ]
  }
 ],
 "metadata": {
  "kernelspec": {
   "display_name": "R",
   "language": "R",
   "name": "ir"
  },
  "language_info": {
   "codemirror_mode": "r",
   "file_extension": ".r",
   "mimetype": "text/x-r-source",
   "name": "R",
   "pygments_lexer": "r",
   "version": "4.1.0"
  }
 },
 "nbformat": 4,
 "nbformat_minor": 5
}
