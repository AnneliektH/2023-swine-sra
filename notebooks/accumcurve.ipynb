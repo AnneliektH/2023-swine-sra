{
 "cells": [
  {
   "cell_type": "code",
   "execution_count": 2,
   "id": "28bfa755",
   "metadata": {},
   "outputs": [],
   "source": [
    "library(vegan)\n",
    "library(dplyr)\n",
    "library(tidyr)\n",
    "library(tidyverse)"
   ]
  },
  {
   "cell_type": "code",
   "execution_count": 3,
   "id": "2da2e571",
   "metadata": {},
   "outputs": [
    {
     "name": "stderr",
     "output_type": "stream",
     "text": [
      "Warning message:\n",
      "“`as.tibble()` was deprecated in tibble 2.0.0.\n",
      "Please use `as_tibble()` instead.\n",
      "The signature and semantics have changed, see `?as_tibble`.\n",
      "\u001b[90mThis warning is displayed once every 8 hours.\u001b[39m\n",
      "\u001b[90mCall `lifecycle::last_lifecycle_warnings()` to see where this warning was generated.\u001b[39m”\n",
      "Warning message:\n",
      "“The `x` argument of `as_tibble.matrix()` must have unique column names if `.name_repair` is omitted as of tibble 2.0.0.\n",
      "Using compatibility `.name_repair`.\n",
      "\u001b[90mThis warning is displayed once every 8 hours.\u001b[39m\n",
      "\u001b[90mCall `lifecycle::last_lifecycle_warnings()` to see where this warning was generated.\u001b[39m”\n"
     ]
    },
    {
     "data": {
      "text/html": [
       "<strong>pdf:</strong> 2"
      ],
      "text/latex": [
       "\\textbf{pdf:} 2"
      ],
      "text/markdown": [
       "**pdf:** 2"
      ],
      "text/plain": [
       "pdf \n",
       "  2 "
      ]
     },
     "metadata": {},
     "output_type": "display_data"
    }
   ],
   "source": [
    "# Load in the virome OTU data (this table contains integers instead of values with a comma)\n",
    "otu1 <- read.table(\"./out_csvs/240123_strain_presab.csv\", sep=\",\", header=T, row.names=1)\n",
    "\n",
    "otu <- t(otu1)\n",
    "sp <- specaccum(otu, method = \"random\", permutations = 100)\n",
    "\n",
    "# Extract each of the permutations and reformat\n",
    "perm <- sp$perm\n",
    "\n",
    "perm.tidy <- as.tibble(perm) %>% \n",
    "  mutate(Sites = 1:nrow(.)) %>% \n",
    "  gather(key = \"Permutation\", value = \"Species\", -Sites) \n",
    "\n",
    "# Extract the consensus richness per number of sites sampled and reformat\n",
    "richness <- data.frame(Sites = sp$sites, Species=sp$richness)\n",
    "\n",
    "# create the actual plot\n",
    "pdf('accumplot_all_permute_otu.pdf')\n",
    "ggplot(perm.tidy, aes(Sites, Species)) +\n",
    "  geom_point(alpha = 0.5, shape = 1, size = 2.5) +\n",
    "  #scale_color_brewer(palette = my_palette) +\n",
    "  geom_line(data = richness, size = 1) +\n",
    "  theme_bw() +\n",
    "  theme(text = element_text(size = 18))\n",
    "dev.off()"
   ]
  },
  {
   "cell_type": "code",
   "execution_count": null,
   "id": "e6bce191",
   "metadata": {},
   "outputs": [],
   "source": []
  }
 ],
 "metadata": {
  "kernelspec": {
   "display_name": "R",
   "language": "R",
   "name": "ir"
  },
  "language_info": {
   "codemirror_mode": "r",
   "file_extension": ".r",
   "mimetype": "text/x-r-source",
   "name": "R",
   "pygments_lexer": "r",
   "version": "4.1.0"
  }
 },
 "nbformat": 4,
 "nbformat_minor": 5
}
