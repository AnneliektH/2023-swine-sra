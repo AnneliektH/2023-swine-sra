{
 "cells": [
  {
   "cell_type": "markdown",
   "metadata": {},
   "source": [
    "# Use fastgather to create a manifest for mgmanysearch\n",
    "mgmanysearch will be faster if it has to search through less results\n",
    "Can I make only 1 manifest for vOTUs and MAGs, and then later run it against the db of interest? \n",
    "So that would be 99%, 95% and all.\n",
    "\n",
    "Try first for one metagenome, if that works then rewrite the snakefile so that it happesn automatically"
   ]
  },
  {
   "cell_type": "code",
   "execution_count": null,
   "metadata": {
    "vscode": {
     "languageId": "plaintext"
    }
   },
   "outputs": [],
   "source": [
    "# for the votus, try with scale of 100, resketch the reads using the sketch snakefile\n",
    "snakemake -s Snakefile_sketch \\\n",
    "--resources mem_mb=30000 \\\n",
    "--rerun-triggers mtime -c 60 --rerun-incomplete -k -p --unlock\n",
    "\n",
    "# vOTUs are already sketchet at 100, in sig_files/signatures_concat/vOTUs.k21.s100.zip\n",
    "\n",
    "# run fmg\n",
    "srun --account=ctbrowngrp -p bmm -J sk_read -t 30:00:00 -c 60 --mem=30gb --pty bash\n",
    "\n",
    "mamba activate branchwater\n",
    "\n",
    "sourmash scripts fastmultigather \\\n",
    "../all_reads.txt \\\n",
    "../../sig_files/signatures_concat/vOTUs.k21.s100.zip \\\n",
    "-c 48 -k 21 -t 5000 -s 100"
   ]
  },
  {
   "cell_type": "code",
   "execution_count": null,
   "metadata": {
    "vscode": {
     "languageId": "plaintext"
    }
   },
   "outputs": [],
   "source": [
    "# run fastgather in the sourmash folder, via snakemake\n",
    "sourmash scripts fastgather \\\n",
    "{input.mtgreads} {input.query} -k 21 --scaled 1000 \\\n",
    "-o {output.csv} \n",
    "\n",
    "# run snakefile:\n",
    "snakemake -s Snakefile_mgsearch \\\n",
    "--resources mem_mb=30000 --rerun-triggers mtime -c 36 --rerun-incomplete -k -p "
   ]
  },
  {
   "cell_type": "code",
   "execution_count": null,
   "metadata": {
    "vscode": {
     "languageId": "plaintext"
    }
   },
   "outputs": [],
   "source": [
    "# after fastgather, make a manifest from the results\n",
    "\n",
    "# get the fastgather column 'match_name'\n",
    "mamba activate csvtk\n",
    "csvtk cut -f match_name SRR8960970.fg.csv > ../../../manifests/vOTU/SRR8960970.list.csv\n",
    "\n",
    "cd ../../../manifests/vOTU"
   ]
  },
  {
   "cell_type": "code",
   "execution_count": null,
   "metadata": {
    "vscode": {
     "languageId": "plaintext"
    }
   },
   "outputs": [],
   "source": [
    "# remove header\n",
    "csvtk del-header SRR8960970.list.csv > SRR8960970.list.dh.csv \n",
    "\n",
    "# now we need to find a way to make manifests for all/99/95 so cross compare\n",
    "# sort the list\n",
    "sort -u SRR8960970.list.dh.csv > SRR8960970.all.csv \n",
    "\n",
    "# then compare\n",
    "comm -1 -2 SRR8960970.all.csv \\\n",
    "../../../genome_stats/240215_high_qualityvOTUs95.nc.sort.txt \\\n",
    "> SRR8960970.95.csv\n",
    "\n",
    "comm -1 -2 SRR8960970.all.csv \\\n",
    "../../../genome_stats/240215_high_qualityvOTUs99.nc.sort.txt \\\n",
    "> SRR8960970.99.csv\n",
    "\n",
    "# add the file path to all 3 in place\n",
    "sed -i -e 's#^#/group/ctbrowngrp2/scratch/annie/2023-swine-sra/sourmash/sig_files/sketch_vOTUs/high_qual/#' SRR8960970.all.csv \n",
    "sed -i -e 's#^#/group/ctbrowngrp2/scratch/annie/2023-swine-sra/sourmash/sig_files/sketch_vOTUs/high_qual/#' SRR8960970.99.csv \n",
    "sed -i -e 's#^#/group/ctbrowngrp2/scratch/annie/2023-swine-sra/sourmash/sig_files/sketch_vOTUs/high_qual/#' SRR8960970.95.csv \n",
    "\n",
    "# add sig.gz\n",
    "awk 'NF{print $0 \".sig.gz\"}' SRR8960970.all.csv > SRR8960970.all.sig.csv \n",
    "awk 'NF{print $0 \".sig.gz\"}' SRR8960970.99.csv > SRR8960970.99.sig.csv \n",
    "awk 'NF{print $0 \".sig.gz\"}' SRR8960970.95.csv > SRR8960970.95.sig.csv \n",
    "\n",
    "# sourmash manifest \n",
    "sourmash sig collect $(cat SRR8960970.all.sig.csv ) -o SRR8960970.all.mf.csv -F csv\n",
    "sourmash sig collect $(cat SRR8960970.99.sig.csv ) -o SRR8960970.99.mf.csv -F csv\n",
    "sourmash sig collect $(cat SRR8960970.95.sig.csv ) -o SRR8960970.95.mf.csv -F csv"
   ]
  },
  {
   "cell_type": "code",
   "execution_count": null,
   "metadata": {
    "vscode": {
     "languageId": "plaintext"
    }
   },
   "outputs": [],
   "source": [
    "# then run mgmanysearch\n",
    "sourmash scripts mgmanysearch \n",
    "--queries SRR8960970.all.mf.csv --against SRR8960970.reads.sig \\\n",
    "-k 21 --scaled 1000 -o SRR8960970.all.mg.csv\n"
   ]
  },
  {
   "cell_type": "code",
   "execution_count": null,
   "metadata": {
    "vscode": {
     "languageId": "plaintext"
    }
   },
   "outputs": [],
   "source": [
    "# run prodigal on vOTUs so we can sketch protein and see how many hashes we lose with deduplication\n",
    "# in ./virsorter2/\n",
    "mamba activate prodigal\n",
    "for f in 240214*.fa\n",
    "do \n",
    "prodigal -i $f -a ../protein_files/${f%.fa*}.faa -p meta -q\n",
    "done\n",
    "\n",
    "# Then sourmash sketch the files at k=10, scaled=100\n",
    "for f in *.faa\n",
    "do\n",
    "sourmash sketch protein -p k=7,scaled=100,noabund $f \\\n",
    "-o ../../sourmash/sig_files/prot_sketches/$f.k7.zip\n",
    "done\n",
    "\n",
    "# Then do sig fileinfo to check how large they are. \n",
    "for f in *k7.zip\n",
    "do\n",
    "sourmash sig fileinfo $f\n",
    "done"
   ]
  },
  {
   "cell_type": "code",
   "execution_count": null,
   "metadata": {
    "vscode": {
     "languageId": "plaintext"
    }
   },
   "outputs": [],
   "source": [
    "# resketch all MAGs so that all files have a name\n",
    "# in atlas/MAGs/genomes/all_fasta/fastafiles/\n",
    "\n",
    "srun --account=ctbrowngrp -p med2 -J smash -t 24:00:00 -c 1 --mem=30gb --pty bash\n",
    "module load parallel\n",
    "mamba activate sourmash \n",
    "for f in *.fasta\n",
    "do\n",
    "sourmash sketch dna \\\n",
    "-p k=21,scaled=1000,k=31,scaled=1000,k=51,scaled=1000 \\\n",
    "$f --name ${f%.fasta*} -o \\\n",
    "../../../../../sourmash/sig_files/MAGs2.0/${f%.fasta*}.zip\n",
    "done | parallel -j 32\n",
    "\n",
    "# move/copy files from a list into a new folder\n",
    " for f in $(cat MAGSdone.txt); do mv $f.fasta ./smash_done/; done\n",
    "\n",
    "# Concatenate all signatures\n",
    "sourmash sig cat *.zip -o ../signatures_concat/MAGs2.zip && \\\n",
    "sourmash sig collect *.zip -o ../signatures_concat/MAGs2.sqlmf\n",
    "\n",
    "Index to rocksdb for fastmultigather?\n",
    "sourmash scripts index MAGs2.zip -o MAGs2.rocksdb -k 21 -c 32"
   ]
  },
  {
   "cell_type": "code",
   "execution_count": null,
   "metadata": {
    "vscode": {
     "languageId": "plaintext"
    }
   },
   "outputs": [],
   "source": [
    "# try fastmultigather -> picklist -> mgsearch\n",
    "# in /sourmash/mgmanysearch/fastmultigather\n",
    "\n",
    "sourmash scripts fastmultigather \\\n",
    "../all_reads.txt \\\n",
    "../../sig_files/signatures_concat/MAGs2.zip \\\n",
    "-c 36 -k 21\n",
    "\n",
    "# set len treshold at half length of smallest predicted vOTU. \n",
    "sourmash scripts fastmultigather \\\n",
    "../all_reads.txt \\\n",
    "../../sig_files/signatures_concat/allvOTUs.zip \\\n",
    "-c 36 -k 21 -t 5000 -s 100"
   ]
  },
  {
   "cell_type": "markdown",
   "metadata": {},
   "source": [
    "\n",
    "# The OG manifest has some columns where name is empty.\n",
    "\n",
    "\n",
    "# cut md5sum col\n",
    "csvtk cut -f match_md5 ./allMAGs/SRR9323811.fg.csv > SRR9323811.pl.txt\n",
    "\n",
    "# for OG MAGs (with no names)\n",
    "sourmash sig check ../../sig_files/signatures_concat/allMAGs.zip \\\n",
    "--picklist SRR9323811.pl.txt:match_md5:md5 -m SRR9323811.mf.og.csv\n",
    "\n",
    "# then make mfs for 95,99,all\n",
    "csvtk join -f \"1;name\" ../../genome_stats/genome_lists/MAGs.95.txt mf.csv > test.csv\n",
    "\n",
    "# do again with this db, check if name is still empty\n",
    "sig_files/signatures_concat/MAGs2.zip"
   ]
  },
  {
   "cell_type": "code",
   "execution_count": null,
   "metadata": {
    "vscode": {
     "languageId": "plaintext"
    }
   },
   "outputs": [],
   "source": [
    "# fedF operon (in folder fed_operon)\n",
    "# copy all assemblies so we can sketch them all\n",
    "\n",
    "# sketch the fedF file (8000 bp)\n",
    "sourmash sketch dna scaffold00000063_fed_genes_ETEC.fa -o fed_genes_ETEC.zip -k 21 --scaled 1000\n",
    "\n",
    "# then try against genomes, assemblies and reads:\n",
    "sourmash gather AtH2023_SRR12795783_MAG2.sig.gz \\\n",
    "../../../../fed_operon/fed_genes_ETEC.zip -k 21 --scaled 1000 \\\n",
    "-o ../../../../fed_operon/AtH2023_SRR12795783_MAG2.csv --threshold-bp 100\n",
    "\n",
    "# sketch assemblies\n",
    "for f in ../../../atlas/atlas_*/*/*_contigs.fa\n",
    "do\n",
    "echo sourmash sketch dna -p k=21,scaled=1000 $f --name ${f%.fa*} -o ${f%.fa*}.zip\n",
    "done | parallel -j 32"
   ]
  }
 ],
 "metadata": {
  "language_info": {
   "name": "python"
  }
 },
 "nbformat": 4,
 "nbformat_minor": 2
}
