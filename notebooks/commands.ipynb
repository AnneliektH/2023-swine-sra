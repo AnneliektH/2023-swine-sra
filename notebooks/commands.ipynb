{
 "cells": [
  {
   "cell_type": "markdown",
   "metadata": {},
   "source": [
    "# Use fastgather to create a manifest for mgmanysearch\n",
    "mgmanysearch will be faster if it has to search through less results\n",
    "Can I make only 1 manifest for vOTUs and MAGs, and then later run it against the db of interest? \n",
    "So that would be 99%, 95% and all.\n",
    "\n",
    "Try first for one metagenome, if that works then rewrite the snakefile so that it happesn automatically"
   ]
  },
  {
   "cell_type": "code",
   "execution_count": null,
   "metadata": {
    "vscode": {
     "languageId": "plaintext"
    }
   },
   "outputs": [],
   "source": [
    "# run fastgather in the sourmash folder, via snakemake\n",
    "sourmash scripts fastgather \\\n",
    "{input.mtgreads} {input.query} -k 21 --scaled 1000 \\\n",
    "-o {output.csv}\n",
    "\n",
    "# run snakefile:\n",
    "snakemake -s Snakefile_mgsearch \\\n",
    "--resources mem_mb=30000 --rerun-triggers mtime -c 36 --rerun-incomplete -k -p "
   ]
  },
  {
   "cell_type": "code",
   "execution_count": null,
   "metadata": {
    "vscode": {
     "languageId": "plaintext"
    }
   },
   "outputs": [],
   "source": [
    "# after fastgather, make a manifest from the results\n",
    "\n",
    "# get the fastgather column 'match_name'\n",
    "mamba activate csvtk\n",
    "csvtk cut -f match_name SRR8960970.fg.csv > ../../../manifests/vOTU/SRR8960970.list.csv\n",
    "\n",
    "cd ../../../manifests/vOTU"
   ]
  },
  {
   "cell_type": "code",
   "execution_count": null,
   "metadata": {
    "vscode": {
     "languageId": "plaintext"
    }
   },
   "outputs": [],
   "source": [
    "# remove header\n",
    "csvtk del-header SRR8960970.list.csv > SRR8960970.list.dh.csv \n",
    "\n",
    "# now we need to find a way to make manifests for all/99/95 so cross compare\n",
    "# sort the list\n",
    "sort -u SRR8960970.list.dh.csv > SRR8960970.all.csv \n",
    "\n",
    "# then compare\n",
    "comm -1 -2 SRR8960970.all.csv \\\n",
    "../../../genome_stats/240215_high_qualityvOTUs95.nc.sort.txt \\\n",
    "> SRR8960970.95.csv\n",
    "\n",
    "comm -1 -2 SRR8960970.all.csv \\\n",
    "../../../genome_stats/240215_high_qualityvOTUs99.nc.sort.txt \\\n",
    "> SRR8960970.99.csv\n",
    "\n",
    "# add the file path to all 3 in place\n",
    "sed -i -e 's#^#/group/ctbrowngrp2/scratch/annie/2023-swine-sra/sourmash/sig_files/sketch_vOTUs/high_qual/#' SRR8960970.all.csv \n",
    "sed -i -e 's#^#/group/ctbrowngrp2/scratch/annie/2023-swine-sra/sourmash/sig_files/sketch_vOTUs/high_qual/#' SRR8960970.99.csv \n",
    "sed -i -e 's#^#/group/ctbrowngrp2/scratch/annie/2023-swine-sra/sourmash/sig_files/sketch_vOTUs/high_qual/#' SRR8960970.95.csv \n",
    "\n",
    "# add sig.gz\n",
    "awk 'NF{print $0 \".sig.gz\"}' SRR8960970.all.csv > SRR8960970.all.sig.csv \n",
    "awk 'NF{print $0 \".sig.gz\"}' SRR8960970.99.csv > SRR8960970.99.sig.csv \n",
    "awk 'NF{print $0 \".sig.gz\"}' SRR8960970.95.csv > SRR8960970.95.sig.csv \n",
    "\n",
    "# sourmash manifest \n",
    "sourmash sig collect $(cat SRR8960970.all.sig.csv ) -o SRR8960970.all.mf.csv -F csv\n",
    "sourmash sig collect $(cat SRR8960970.99.sig.csv ) -o SRR8960970.99.mf.csv -F csv\n",
    "sourmash sig collect $(cat SRR8960970.95.sig.csv ) -o SRR8960970.95.mf.csv -F csv"
   ]
  },
  {
   "cell_type": "code",
   "execution_count": null,
   "metadata": {
    "vscode": {
     "languageId": "plaintext"
    }
   },
   "outputs": [],
   "source": [
    "# then run mgmanysearch\n",
    "sourmash scripts mgmanysearch \n",
    "--queries SRR8960970.all.mf.csv --against SRR8960970.reads.sig \\\n",
    "-k 21 --scaled 1000 -o SRR8960970.all.mg.csv\n"
   ]
  }
 ],
 "metadata": {
  "language_info": {
   "name": "python"
  }
 },
 "nbformat": 4,
 "nbformat_minor": 2
}
