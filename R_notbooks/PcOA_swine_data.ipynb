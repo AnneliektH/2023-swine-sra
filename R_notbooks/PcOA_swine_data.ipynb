{
 "cells": [
  {
   "cell_type": "code",
   "execution_count": 176,
   "id": "75586b97",
   "metadata": {},
   "outputs": [
    {
     "name": "stderr",
     "output_type": "stream",
     "text": [
      "Warning message:\n",
      "“package ‘RColorBrewer’ was built under R version 4.1.2”\n"
     ]
    }
   ],
   "source": [
    "# Load libraries\n",
    "library(vegan)\n",
    "library(ape)\n",
    "library(ggplot2)\n",
    "library(dplyr)\n",
    "library(RColorBrewer)\n"
   ]
  },
  {
   "cell_type": "code",
   "execution_count": 168,
   "id": "c80fd123",
   "metadata": {},
   "outputs": [],
   "source": [
    "# read in otu table\n",
    "otu <- read.csv(\"shya_k31.sigs.compare.csv\")\n",
    "\n",
    "# Label the rows\n",
    "rownames(otu) <- colnames(otu)\n"
   ]
  },
  {
   "cell_type": "code",
   "execution_count": 169,
   "id": "f5546e77",
   "metadata": {},
   "outputs": [],
   "source": [
    "# open metadata file\n",
    "cat_meta <- read.csv(\"meta.csv\", sep=',', header=1, row.names=1)\n",
    "# give sample IDs       \n",
    "cat_meta$SampleID <- rownames(cat_meta)\n"
   ]
  },
  {
   "cell_type": "code",
   "execution_count": 170,
   "id": "96797cf1",
   "metadata": {},
   "outputs": [
    {
     "name": "stdout",
     "output_type": "stream",
     "text": [
      "Run 0 stress 0.07694692 \n",
      "Run 1 stress 0.08047023 \n",
      "Run 2 stress 0.07744287 \n",
      "... Procrustes: rmse 0.06493424  max resid 0.173473 \n",
      "Run 3 stress 0.08487449 \n",
      "Run 4 stress 0.07748032 \n",
      "Run 5 stress 0.07694644 \n",
      "... New best solution\n",
      "... Procrustes: rmse 0.0002873923  max resid 0.001083886 \n",
      "... Similar to previous best\n",
      "Run 6 stress 0.07744301 \n",
      "... Procrustes: rmse 0.06498052  max resid 0.1734918 \n",
      "Run 7 stress 0.07694659 \n",
      "... Procrustes: rmse 0.0001417456  max resid 0.0005361993 \n",
      "... Similar to previous best\n",
      "Run 8 stress 0.08083554 \n",
      "Run 9 stress 0.0857182 \n",
      "Run 10 stress 0.08042849 \n",
      "Run 11 stress 0.07874386 \n",
      "Run 12 stress 0.07874384 \n",
      "Run 13 stress 0.07739947 \n",
      "... Procrustes: rmse 0.05635371  max resid 0.1973494 \n",
      "Run 14 stress 0.07874384 \n",
      "Run 15 stress 0.07874387 \n",
      "Run 16 stress 0.08080911 \n",
      "Run 17 stress 0.0761916 \n",
      "... New best solution\n",
      "... Procrustes: rmse 0.01613867  max resid 0.07159446 \n",
      "Run 18 stress 0.08083546 \n",
      "Run 19 stress 0.07619148 \n",
      "... New best solution\n",
      "... Procrustes: rmse 0.0001700497  max resid 0.000605402 \n",
      "... Similar to previous best\n",
      "Run 20 stress 0.07878672 \n",
      "*** Solution reached\n"
     ]
    },
    {
     "data": {
      "text/html": [
       "0.0761914795437176"
      ],
      "text/latex": [
       "0.0761914795437176"
      ],
      "text/markdown": [
       "0.0761914795437176"
      ],
      "text/plain": [
       "[1] 0.07619148"
      ]
     },
     "metadata": {},
     "output_type": "display_data"
    }
   ],
   "source": [
    "# nmds\n",
    "otu.nmds <- metaMDS(otu)\n",
    "otu.nmds$stress"
   ]
  },
  {
   "cell_type": "code",
   "execution_count": 171,
   "id": "7c665076",
   "metadata": {},
   "outputs": [],
   "source": [
    "# perform pcoa with ape package pcoa\n",
    "pcoa <- pcoa(as.dist(otu))\n",
    "\n",
    "\n",
    "# make a dataframe named axes, put pcoa values in there\n",
    "axes <- as.data.frame(pcoa$vectors)\n",
    "\n",
    "# Give df extra column with the rownames in it \n",
    "axes$SampleID <- rownames(axes)\n",
    "\n",
    "# R will not automatically bind datapoints with the same name, but randomly bind them\n",
    "# therefore order cat data with this\n",
    "cat_meta.ordered <- cat_meta[match(row.names(otu.nmds$points), row.names(cat_meta)),]   \n"
   ]
  },
  {
   "cell_type": "code",
   "execution_count": 172,
   "id": "339af810",
   "metadata": {},
   "outputs": [],
   "source": [
    "# calculate the eigenvalues for each pcoa axes \n",
    "eigval <- round(pcoa$values$Relative_eig * 100, digits = 2)\n",
    "\n",
    "# merge those dfs\n",
    "axes <- merge(cat_meta.ordered, axes, by.x = \"SampleID\", by.y = \"SampleID\")\n"
   ]
  },
  {
   "cell_type": "code",
   "execution_count": null,
   "id": "2d39f0bb",
   "metadata": {},
   "outputs": [],
   "source": []
  },
  {
   "cell_type": "code",
   "execution_count": 173,
   "id": "c430c348",
   "metadata": {},
   "outputs": [
    {
     "data": {
      "text/html": [
       "9.72"
      ],
      "text/latex": [
       "9.72"
      ],
      "text/markdown": [
       "9.72"
      ],
      "text/plain": [
       "[1] 9.72"
      ]
     },
     "metadata": {},
     "output_type": "display_data"
    },
    {
     "data": {
      "text/html": [
       "6.35"
      ],
      "text/latex": [
       "6.35"
      ],
      "text/markdown": [
       "6.35"
      ],
      "text/plain": [
       "[1] 6.35"
      ]
     },
     "metadata": {},
     "output_type": "display_data"
    },
    {
     "data": {
      "text/html": [
       "4.98"
      ],
      "text/latex": [
       "4.98"
      ],
      "text/markdown": [
       "4.98"
      ],
      "text/plain": [
       "[1] 4.98"
      ]
     },
     "metadata": {},
     "output_type": "display_data"
    },
    {
     "data": {
      "text/html": [
       "4.74"
      ],
      "text/latex": [
       "4.74"
      ],
      "text/markdown": [
       "4.74"
      ],
      "text/plain": [
       "[1] 4.74"
      ]
     },
     "metadata": {},
     "output_type": "display_data"
    }
   ],
   "source": [
    "# Put those eigenvalues in a df so they easy to get to. \n",
    "eigval <- data.frame( PC = 1:length(eigval), Eigval = eigval)\n",
    "# head(eigval) # see top eigenvalues\n",
    "eigval[[1,2]] # see first axes percentage\n",
    "eigval[[2,2]] # second axes\n",
    "eigval[[3,2]] # third axes\n",
    "eigval[[4,2]] # fourth axes\n"
   ]
  },
  {
   "cell_type": "code",
   "execution_count": null,
   "id": "421bc79d",
   "metadata": {},
   "outputs": [],
   "source": []
  },
  {
   "cell_type": "code",
   "execution_count": 175,
   "id": "8b56a5e5",
   "metadata": {},
   "outputs": [],
   "source": [
    "# permanova\n",
    "pmanova2 = adonis2(as.dist(otu) ~  treat, data = cat_meta.ordered)\n",
    "pmanova2"
   ]
  },
  {
   "cell_type": "code",
   "execution_count": 185,
   "id": "4c2e08e5",
   "metadata": {},
   "outputs": [],
   "source": [
    "# write to pdf\n",
    "# pdf(\"PCOA.pdf\")\n",
    "\n",
    "# set plot\n",
    "p <- ggplot(axes, aes(Axis.1, Axis.2), width = 7, height = 3) \n",
    "\n",
    "# set color of the points as the factor depth, shape as year, set size and see-throughness\n",
    "p + geom_point(aes(colour=as.character(treat), size = 5,alpha=0.9, stroke=1)) +\n",
    " \n",
    "  # set text for the axis lables (eigenvalues)\n",
    "  xlab(paste(\"PCo1 (\", eigval$Eigval[1], \" %)\", sep = \"\")) +  # or somthing else\n",
    "  ylab(paste(\"PCo2 (\", eigval$Eigval[2], \" %)\", sep = \"\")) +\n",
    "  \n",
    "  # set the colors of the points with the colorbrewer pallet\n",
    "  scale_color_brewer(name = \"Treatment\", palette = \"Dark2\") +\n",
    "\n",
    "#   # you can set colors manually by this: \n",
    "#   #scale_color_manual(name = 'soil', values = c(\"#377eb8\", \"#e41a1c\", \"yellow\")) +\n",
    "\n",
    "#   # set shapes of the points\n",
    "#   #scale_shape_manual(name = \"Plot\", values=c(16,17,15,18)) +\n",
    "\n",
    "  # tell where the legend has to be\n",
    "  guides(color = guide_legend(title.position = \"top\", title.hjust = 0.5)) +\n",
    "  theme_bw() +\n",
    "  \n",
    "  # set text size for whole graph. set the background color (white with no lines)\n",
    "  theme(text = element_text(size = 20), panel.grid.major = element_blank(),\n",
    "  panel.grid.minor = element_blank(),\n",
    "        legend.position = \"left\") \n",
    "dev.off()"
   ]
  },
  {
   "cell_type": "code",
   "execution_count": null,
   "id": "1c30dc54",
   "metadata": {},
   "outputs": [],
   "source": []
  },
  {
   "cell_type": "code",
   "execution_count": null,
   "id": "69545c2d",
   "metadata": {},
   "outputs": [],
   "source": []
  }
 ],
 "metadata": {
  "kernelspec": {
   "display_name": "R",
   "language": "R",
   "name": "ir"
  },
  "language_info": {
   "codemirror_mode": "r",
   "file_extension": ".r",
   "mimetype": "text/x-r-source",
   "name": "R",
   "pygments_lexer": "r",
   "version": "4.1.0"
  }
 },
 "nbformat": 4,
 "nbformat_minor": 5
}
