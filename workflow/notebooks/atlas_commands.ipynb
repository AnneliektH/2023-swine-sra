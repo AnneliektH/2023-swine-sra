{
 "cells": [
  {
   "cell_type": "markdown",
   "metadata": {
    "vscode": {
     "languageId": "plaintext"
    }
   },
   "source": [
    "## Need to run atlas on all metagenomes eventually\n",
    "Will keep working on processing all metaGs in this folder, since all atlas code is here. \n",
    "Would like to assemble MAGs, and get the taxonomy. Will leave the vOTUs be for now, as I don't have a good use for them right now. If needed later, virsorter/vibrant can be run pretty quickly on all assembled contigs. \n",
    "\n",
    "- Assemble MAGs, 100 SRAs at a time\n",
    "- Get taxonomy and quality of MAGs. \n",
    "\n",
    "The snakefile that runs atlas used to work with a json for the cluster but it broke (and idk why.) So now, we are runnin it in a screen, which is suboptimal. "
   ]
  },
  {
   "cell_type": "markdown",
   "metadata": {},
   "source": [
    "# check space\n",
    "df -h .\n",
    "536G\n"
   ]
  },
  {
   "cell_type": "code",
   "execution_count": null,
   "metadata": {
    "vscode": {
     "languageId": "shellscript"
    }
   },
   "outputs": [],
   "source": [
    "Association Partition  CPUs  MEM(G) GPUs \n",
    "----------------------------------------\n",
    "adamgrp     high       192   500    —    \n",
    "adamgrp     high2      352   744    —    \n",
    "ctbrowngrp  bmh        96    1,000  —    \n",
    "ctbrowngrp  gpu-a100-h 32    125    1    \n",
    "ctbrowngrp  gpuh       6     93     1    \n",
    "ctbrowngrp  gpum       60    960    10   \n",
    "ctbrowngrp  high2      224   500    —    \n",
    "jbemersogrp bmh        256   1,953  —    \n",
    "jbemersogrp high2      256   488    —  "
   ]
  },
  {
   "cell_type": "code",
   "execution_count": null,
   "metadata": {
    "vscode": {
     "languageId": "shellscript"
    }
   },
   "outputs": [],
   "source": [
    "# atlas makes massive bam files:\n",
    "rm /group/ctbrowngrp2/scratch/annie/2023-swine-sra/results/atlas/atlas_*/*/sequence_alignment/*.bam"
   ]
  },
  {
   "cell_type": "code",
   "execution_count": null,
   "metadata": {
    "vscode": {
     "languageId": "shellscript"
    }
   },
   "outputs": [],
   "source": [
    "# spec set of SRAs not fasterqdumpable\n",
    "\n",
    "conda install -c bioconda sra-tools\n"
   ]
  },
  {
   "cell_type": "code",
   "execution_count": null,
   "metadata": {
    "vscode": {
     "languageId": "shellscript"
    }
   },
   "outputs": [],
   "source": [
    "# missing tax files:\n",
    "# do manually for 2 MAGs\n",
    "\n",
    "# dir for doing this\n",
    "mkdir results/redo_taxonomy/\n",
    "cd results/redo_taxonomy/\n",
    "\n",
    "# copy genomes\n",
    "cp ../atlas/atlas_SRR11183532/genomes/genomes/AtH2023_SRR11183532_MAG7.fasta .\n",
    "cp ../atlas/atlas_SRR7182054/genomes/genomes/AtH2023_SRR7182054_MAG7.fasta .\n",
    "\n",
    "# srun\n",
    "srun --account=ctbrowngrp -p med2 -J smash -t 1:00:00 -c 16 --mem=60gb --pty bash\n",
    "\n",
    "\n",
    "mamba activate gtdbtk\n",
    "gtdbtk classify_wf --cpus 16 --genome_dir ./genomes --extension fasta \\\n",
    "--skip_ani_screen --out_dir taxonomy\n",
    "\n",
    "\n",
    "cp ../../atlas/atlas_SRR7182054/genomes/taxonomy/gtdb_taxonomy.tsv ./gtdb_taxonomy_SRR7182054.tsv\n",
    "cp ../../atlas/atlas_SRR11183532/genomes/taxonomy/gtdb_taxonomy.tsv ./gtdb_taxonomy_SRR11183532.tsv\n",
    "\n",
    "nano ../../atlas_SRR7182054/genomes/taxonomy/gtdb_taxonomy.tsv"
   ]
  },
  {
   "cell_type": "code",
   "execution_count": null,
   "metadata": {
    "vscode": {
     "languageId": "shellscript"
    }
   },
   "outputs": [],
   "source": [
    "# running atlas in a screen, still wil submit jobs to cluster\n",
    "srun --account=ctbrowngrp -p high2 -J atlas -t 48:00:00 -c 4 --mem=50gb --pty bash\n",
    "mamba activate branchwater\n",
    "\n",
    "# snakefile also downloads the SRA and converts into reads. \n",
    "snakemake --use-conda --resources mem_mb=50000 --rerun-triggers mtime \\\n",
    "-c 4 --rerun-incomplete -k --jobs 30 -n"
   ]
  },
  {
   "cell_type": "code",
   "execution_count": null,
   "metadata": {
    "vscode": {
     "languageId": "shellscript"
    }
   },
   "outputs": [],
   "source": []
  },
  {
   "cell_type": "code",
   "execution_count": null,
   "metadata": {
    "vscode": {
     "languageId": "shellscript"
    }
   },
   "outputs": [],
   "source": [
    "# wanting to move MAGs again, in results/MAGs\n",
    "srun --account=ctbrowngrp -p med2 -J mvmag -t 4:00:00 -c 4 --mem=50gb --pty bash\n",
    "mamba activate branchwater\n",
    "\n",
    "snakemake --use-conda --resources mem_mb=50000 --rerun-triggers mtime \\\n",
    "-c 4 --rerun-incomplete -k -s move_mags.smk -n"
   ]
  },
  {
   "cell_type": "code",
   "execution_count": null,
   "metadata": {
    "vscode": {
     "languageId": "shellscript"
    }
   },
   "outputs": [],
   "source": [
    "# Using the json for cluster (broken)\n",
    "mamba activate snakemake\n",
    "\n",
    "# running using a config file. \n",
    "snakemake --use-conda --cluster-config cluster_snake.json \\\n",
    "--resources mem_mb=50000 -p --rerun-triggers mtime -k -n -r \\\n",
    "--jobs 30 --latency-wait 30000 --cluster \\\n",
    "\"sbatch --partition {cluster.partition} \\\n",
    "--ntasks {cluster.ntasks} -N {cluster.nodes} \\\n",
    "--job-name {cluster.job_name} --mem {cluster.mem} \\\n",
    "-t {cluster.time} --account {cluster.account} \\\n",
    "-e {cluster.error} -o {cluster.output} --parsable\""
   ]
  },
  {
   "cell_type": "code",
   "execution_count": null,
   "metadata": {
    "vscode": {
     "languageId": "shellscript"
    }
   },
   "outputs": [],
   "source": []
  },
  {
   "cell_type": "code",
   "execution_count": null,
   "metadata": {
    "vscode": {
     "languageId": "shellscript"
    }
   },
   "outputs": [],
   "source": [
    "# when using mem limits stated in .json (for smash)\n",
    "snakemake --use-conda --cluster-config config/cluster_snake.json -p --rerun-triggers mtime -k \\\n",
    "--jobs 30 --latency-wait 30000 --cluster \\\n",
    "\"sbatch --partition {cluster.partition} \\\n",
    "--ntasks {cluster.ntasks} -N {cluster.nodes} \\\n",
    "--job-name {cluster.job_name} --mem {cluster.mem} \\\n",
    "-t {cluster.time} --account {cluster.account} \\\n",
    "-e {cluster.error} -o {cluster.output} --parsable\" -n"
   ]
  },
  {
   "cell_type": "code",
   "execution_count": null,
   "metadata": {
    "vscode": {
     "languageId": "shellscript"
    }
   },
   "outputs": [],
   "source": [
    "# also run gather for all these with just gtdbk\n",
    "# create a sourmash zip and rerun\n",
    "# srun for smash\n",
    "srun --account=ctbrowngrp -p med2 -J smash -t 12:00:00 -c 32 --mem=30gb --pty bash\n",
    "srun --account=ctbrowngrp -p bmm -J bin -t 4:00:00 -c 12 --mem=50gb --pty bash\n",
    "srun --account=ctbrowngrp -p med2 -J smash -t 3:00:00 -c 1 --mem=30gb --pty bash\n",
    "srun --account=ctbrowngrp -p bmm -J prodigal -t 3:00:00 -c 1 --mem=30gb --pty bash\n",
    "\n",
    "# run atlas ins creen \n",
    "atlas run genomes --configfile ../../atlas_config.yaml \\\n",
    "-w . --default-resources mem_mb=70000 -j 12\n",
    "\n",
    "# to run the smash pipeline\n",
    "srun --account=ctbrowngrp -p bmm -J readsig -t 1:00:00 -c 4 --mem=20gb --pty bash\n",
    "snakemake --use-conda --resources mem_mb=50000 --rerun-triggers mtime -c 32 --rerun-incomplete -k --latency-wait 30\n",
    "\n",
    "mamba activate snakemake\n",
    "snakemake --use-conda --resources mem_mb=75000 --rerun-triggers mtime -c 100 --rerun-incomplete -k \n",
    "\n",
    "snakemake --resources mem_mb=20000 --rerun-triggers mtime -c 4 --rerun-incomplete -k \n",
    "\n",
    "\n",
    "snakemake --use-conda -s Snakefile_gather --resources mem_mb=20000 --rerun-triggers mtime -c --rerun-incomplete -k\n",
    "snakemake --resources mem_mb=25000 --rerun-triggers mtime -c 6 --rerun-incomplete -k\n",
    "\n",
    "mamba activate sourmash \n",
    "cd atlas/MAGs/genomes/\n",
    "mkdir all_fasta\n",
    "mv */*.fasta all_fasta\n",
    "\n",
    "<!-- # We want to sketch individually bc otherwise 1 signature per contig, not per MAG\n",
    "cd all_fasta\n",
    "module load parallel\n",
    "for i in $(\"*.fasta\") ; do echo sourmash sketch dna -p k=21,scaled=1000 $i ; done | parallel -j 32  -->\n",
    "\n",
    "# I think I forgot to give each of the sketches a name : In gather no MAG names\n",
    "# re do the sketches \n",
    "module load parallel\n",
    "mamba activate branchwater\n",
    "\n",
    "for f in *.fasta\n",
    "do\n",
    "echo sourmash sketch dna -p k=21,scaled=1000,k=31,scaled=1000,k=51,scaled=1000 $f --name ${f%.fasta*} -o ../sigs/${f%.fasta*}.zip\n",
    "done | parallel -j 32\n",
    "\n",
    "# Concatenate all signatures\n",
    "sourmash sig cat *.zip -o ../../../all-MAGs_21.zip && \\\n",
    "sourmash sig collect *.zip -o ../../../all-MAGs_21.sqlmf\n",
    "\n",
    "# for viral sigs make individual fasta files too\n",
    "# Do with the deduplicated vOTUs \n",
    "cd votu_smash\n",
    "awk '/^>/ {OUT=substr($0,2) \".fa\"}; OUT {print >OUT}' ../../virsorter2/240108_all_viralcontigs.sorted.cluster.fa\n",
    "\n",
    "cd virsorter2/contigs\n",
    "cat *.fa > all_virus.fa\n",
    "cd individ_contigs\n",
    "awk '/^>/ {OUT=substr($0,2) \".fa\"}; OUT {print >OUT}' ../all_virus.fa\n",
    "\n",
    "module load parallel\n",
    "mamba activate branchwater\n",
    "\n",
    "for f in *.fa\n",
    "do\n",
    "echo sourmash sketch dna -p k=21,scaled=100,k=31,scaled=100,k=51,scaled=100 $f --name ${f%.fa*} -o ../sigs/${f%.fa*}.zip\n",
    "done | parallel -j 32\n",
    "\n",
    "# Concatenate all signatures\n",
    "sourmash sig cat sigs/*.zip -o ../all-votu_21.zip && \\\n",
    "sourmash sig collect sigs/*.zip -o ../all-votu_21.sqlmf\n",
    "\n",
    "# check number of contigs\n",
    "# viral\n",
    "cd virsorter2/contigs\n",
    "grep -c '>' *.fa > 2023_num_contigs.txt\n",
    "\n",
    "# MAG  \n",
    "cd atlas\n",
    "for i in atlas_*/genomes/genomes; do echo $i: $(ls \"$i\" | wc -l); done > ./MAGs/240108_num_genomes.tsv\n",
    "\n",
    "# For one set of MAGs: Data deleted and taxonomy files lost. \n",
    "# Installed gtdbtk as to not re-run all of atlas\n",
    "srun --account=ctbrowngrp -p med2 -J smash -t 6:00:00 -c 16 --mem=60gb --pty bash\n",
    "cd atlas_ERR1135187/\n",
    "mamba activate gtdbtk\n",
    "gtdbtk classify_wf --cpus 16 --genome_dir ./genomes/genomes/ --extension fasta \\\n",
    "--outdir ./genomes/taxonomy/ \n",
    "\n",
    "\n",
    "<!-- # Probably easier to make a list of the db to use\n",
    "python /home/ctbrown/scratch/2022-database-covers/make-db-cover.py \\\n",
    "/group/ctbrowngrp2/scratch/annie/2023-swine-sra/atlas/MAGs/all-MAGs_21.zip \\\n",
    "-o mags.k21.cover.zip --scaled=10000 -k 21 -->\n",
    "<!-- \n",
    "mkdir -p mags.k21.cover.d\n",
    "cd mags.k21.cover.d \n",
    "sourmash sig split ../mags.k21.cover.zip -E .sig.gz\n",
    "cd ..\n",
    "find $(pwd)/mags.k21.cover.d -type f > list.mags.k21.cover.txt\n",
    "cat list.mags.k21.cover.txt /home/ctbrown/scratch/2022-database-covers/list.gtdb-rs214.k21.cover.txt >> list.mags-gtdb-r214.k21.cover.txt -->\n",
    "\n",
    "# remove carrots from header files\n",
    "sed 's/[>]//g' file.txt > filenocar.txt\n",
    "\n",
    "# remove the word fasta\n",
    " sed 's/[.fasta]//g' \n",
    "\n",
    " # move/copy files from a list into a new folder\n",
    " for f in $(cat MAGs.txt); do mv $f.fasta /folder/; done\n",
    "\n",
    " for f in $(cat ../../../../genome_stats/genome_lists/MAGs.all.txt)\n",
    " do\n",
    " mv $f.zip ./all/\n",
    " done\n",
    "\n",
    "cd 95\n",
    "sourmash sig cat *.zip -o ../../signatures_concat/\n",
    "\n",
    "mv *.zip ../\n",
    "cd ..\n",
    "mkdir 99\n",
    " for f in $(cat ../../../genome_stats/240214_cdhit_votus.99.nc.txt)\n",
    " do\n",
    " echo $f\n",
    " mv $f.zip ./99/\n",
    " done\n",
    "cd 99\n",
    "sourmash sig cat *.zip -o ../../signatures_concat/\n",
    "\n",
    "mv *.zip ../\n",
    "cd ..\n",
    "\n",
    "\n",
    "## Rename the csv files with viral scores\n",
    "for f in */final-viral-combined.fa\n",
    "do \n",
    "echo $f\n",
    "grep -e '>' $f > header_files/oldhead/${f%/*}.csv\n",
    "echo ${f%/*}\n",
    "done\n",
    "grep -e '>' $f > \n",
    "\n",
    "for f in *rename*.fa\n",
    "do\n",
    "echo $f\n",
    "grep -e '>' $f > ../../header_files/newhead/${f%_rename*}.csv\n",
    "echo ${f%_rename*}.csv\n",
    "done\n",
    "\n",
    "for f in *.csv\n",
    "do\n",
    "sed 's/[<>,]//g' $f > ../oldheadclean/$f\n",
    "done\n",
    "\n",
    "for f in *.csv\n",
    "do\n",
    "sed 's/[<>,]//g' $f > ../newheadclean/$f\n",
    "done \n",
    "\n",
    "for f in *.csv\n",
    "do\n",
    "paste -d \"\\t\" $f ../newheadclean/$f > ../concathead/$f\n",
    "done\n",
    "\n",
    "# add header\n",
    "for f in *.csv\n",
    "do\n",
    "csvtk add-header -t $f -n seqname,newname > $f.newname\n",
    "done\n",
    "\n",
    "# concat all\n",
    "csvtk concat -t *.newname > ../all_headkeys.tsv\n",
    "\n",
    "# join the final csvs\n",
    "csvtk join -t -f seqname all_viralscore.tsv all_headkeys.tsv > renamed_viralscore.tsv\n",
    "\n",
    " # cdhit the viral sequences. \n",
    " keep only the ones with a score and remove duplicate sequences\n",
    "seqkit rmdup -s < all_viswithscore.fa > 240206_all_viral_seqs.fa\n",
    "\n",
    " # first sort by lenght\n",
    " mamba activate bbmap\n",
    " sortbyname.sh in=240206_all_viral_seqs.fa \\\n",
    " out=240206_all_viral_seqs.sorted.fa length descending\n",
    "\n",
    "mamba activate cdhit\n",
    "cd-hit-est -i 240214_allvOTUs_highq.sort.fasta \\\n",
    "-o 240214_allvOTUs_highq.95.sorted.cluster.fa \\\n",
    "-c 0.95 -aS 0.85 -M 70000 -T 32 && \\\n",
    "cd-hit-est -i 240214_allvOTUs_highq.sort.fasta \\\n",
    "-o 240214_allvOTUs_highq.99.sorted.cluster.fa \\\n",
    "-c 0.99 -aS 0.85 -M 70000 -T 32\n",
    "\n",
    "# in atlas/MAGs/genomes/all_fasta/fastafiles/\n",
    "for f in *.fasta\n",
    "do\n",
    "sourmash sketch dna \\\n",
    "-p k=21,scaled=1000,k=31,scaled=1000,k=51,scaled=1000 \\\n",
    "$f --name ${f%.fasta*} -o \\\n",
    "../../../../../sourmash/sig_files/MAGs2.0/${f%.fasta*}.zip\n",
    "done | parallel -j 32\n",
    "\n",
    "# for votus\n",
    "module load parallel\n",
    "mamba activate branchwater\n",
    "\n",
    "for f in *.fa\n",
    "do\n",
    "echo sourmash sketch dna \\\n",
    "-p k=21,scaled=1000,k=31,scaled=1000 \\\n",
    "$f --name ${f%.fa*} \\\n",
    "-o ../sketch_vOTUs/${f%.fa*}.zip && mv $f ./smashsig_complete/\n",
    "done | parallel -j 32\n",
    "\n",
    "# Do an mgmanysearch for abundance of vOTUs and MAGs in samples\n",
    "# sourmash mgsearch, one metag per file, only flat sigs \n",
    "# change the source code to do the ksize and scale i want\n",
    "in /home/amhorst/mambaforge/envs/sourmash/lib/python3.10/site-packages/sourmash_plugin_containment_search.py\n",
    "sourmash scripts mgsearch ERR3211994_0.k15.sig ERR3211994.abund.k15.reads.sig.gz \\\n",
    "-k 15 --scaled 100\n",
    "\n",
    "sourmash scripts mgmanysearch --queries ERR3211994.contigs.single.k15.sig.gz \\\n",
    "--against ERR3211994.R1.abund.k15.reads.sig.gz -k 15 --scaled 100 -o mgmanysearch.abund.csv\n",
    "\n"
   ]
  },
  {
   "cell_type": "markdown",
   "metadata": {},
   "source": []
  }
 ],
 "metadata": {
  "language_info": {
   "name": "python"
  }
 },
 "nbformat": 4,
 "nbformat_minor": 2
}
