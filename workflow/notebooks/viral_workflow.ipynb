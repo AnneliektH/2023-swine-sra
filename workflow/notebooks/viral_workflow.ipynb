{
 "cells": [
  {
   "cell_type": "markdown",
   "metadata": {},
   "source": [
    "### Make separate snakefile to process viruses\n",
    "- After atlas already done: contigs present. Can run virsorter2 on these\n",
    "- Need to make a snakefile for this\n",
    "- 236 fa files still need to go through vs2 (is ok)\n",
    "\n",
    "Just make 2: One for running virsorter, then one for moving the files. And renaming.\n",
    "Viral taxonomy? With sourmash?\n",
    "\n",
    "Do we want to use genomad instead? bc plasmids. "
   ]
  },
  {
   "cell_type": "code",
   "execution_count": null,
   "metadata": {},
   "outputs": [],
   "source": [
    "genomad end-to-end \\\n",
    "--cleanup --splits \\\n",
    "8 GCF_009025895.1.fna.gz \\\n",
    "genomad_output genomad_db"
   ]
  },
  {
   "cell_type": "code",
   "execution_count": null,
   "metadata": {},
   "outputs": [],
   "source": [
    "#GENOMAD\n",
    "# srun it, needs quite some mem\n",
    "srun --account=ctbrowngrp -p med2 -J genomad -t 12:00:00 -c 36 --mem=100gb --pty bash\n",
    "\n",
    "# end to end for everything, need to annotate for classification\n",
    "# Use for taxonomy of DNA phage\n",
    "# softlink db\n",
    "ln -s /group/jbemersogrp/databases/genomad/genomad_db .\n",
    "\n",
    "# own genomad db\n",
    "/home/amhorst/databases/genomad/genomad_db\n",
    "\n",
    "# running \n",
    "srun --account=ctbrowngrp -p high2 -J gmd -t 24:00:00 -c 120 --mem=100gb --pty bash\n",
    "mamba activate branchwater-skipmer\n",
    "\n",
    "snakemake \\\n",
    "-s genomad.smk \\\n",
    "--rerun-triggers mtime --rerun-incomplete \\\n",
    "--resources mem_mb=100000 -c 120 --use-conda \\\n",
    "-k -n\n"
   ]
  },
  {
   "cell_type": "code",
   "execution_count": null,
   "metadata": {},
   "outputs": [],
   "source": [
    "# running atlas in a screen, still wil submit jobs to cluster\n",
    "srun --account=ctbrowngrp -p med2 -J vs2 -t 48:00:00 -c 36 --mem=50gb --pty bash\n",
    "mamba activate branchwater-skipmer\n",
    "\n",
    "snakemake \\\n",
    "-s virsorter2.smk \\\n",
    "--rerun-triggers mtime --rerun-incomplete \\\n",
    "--resources mem_mb=50000 -c 36 --use-conda \\\n",
    "-k -n\n"
   ]
  },
  {
   "cell_type": "code",
   "execution_count": null,
   "metadata": {},
   "outputs": [],
   "source": [
    "# another snakefile for renaming and using the quality tresh. \n",
    "\n",
    "# rename found vOTUs\n",
    "rule bbmap_rename_viral:\n",
    "    input: \n",
    "        check = \"../results/check/{sample}_vs2_done.check\"\n",
    "    output: \n",
    "        contigs = \"../results/virsorter2/contigs/{sample}_rename.fa\",\n",
    "        check = \"../results/check/{sample}_rename.check\"\n",
    "    log:\n",
    "        \"../results/logs/virsorter2/{sample}_rename.log\"\n",
    "    conda: \n",
    "        \"bbmap\"\n",
    "    shell:\n",
    "        \"\"\"\n",
    "    if [[ ! -e ../results/virsorter2/{wildcards.sample}/final-viral-combined.fa ]] \n",
    "    then\n",
    "        touch {output.contigs} \n",
    "    else\n",
    "        rename.sh in=../results/virsorter2/{wildcards.sample}/final-viral-combined.fa \\\n",
    "        out={output.contigs} prefix=AtH2023_{wildcards.sample}_viral && touch {output.check}\n",
    "    fi\n",
    "        \"\"\"\n",
    "\n",
    "\n"
   ]
  }
 ],
 "metadata": {
  "language_info": {
   "name": "python"
  }
 },
 "nbformat": 4,
 "nbformat_minor": 2
}
