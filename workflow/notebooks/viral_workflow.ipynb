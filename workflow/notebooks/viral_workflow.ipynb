{
 "cells": [
  {
   "cell_type": "markdown",
   "metadata": {},
   "source": [
    "### Make separate snakefile to process viruses\n",
    "- After atlas already done: contigs present. \n",
    "- Run genomad: get plasmids and viruses\n",
    "\n",
    "We have for viruses and plasmids: \n",
    "- predicted genes (can make a phylo tree from the TerL if needed..)\n",
    "- the contigs and proteins\n",
    "\n",
    "Concatenate all plasmids and all viruses\n",
    "- drep them, probably at 95% for viruses, and 99% for plasmids? Can do 99 for both. \n",
    "- Figure out what plasmid ones are also in MAGs. "
   ]
  },
  {
   "cell_type": "code",
   "execution_count": null,
   "metadata": {},
   "outputs": [],
   "source": [
    "# genomad done!!\n",
    "# I think we want to keep plasmids and viruses with a score > 0.9\n",
    "# rename contigs, then concatenate\n",
    "\n",
    "\n",
    "# cat all the score things too\n",
    "csvtk concat -t */*_contigs_summary/*_contigs_plasmid_summary.tsv \\\n",
    "> /group/ctbrowngrp2/amhorst/2025-pigparadigm/results/plasmids/250417_plasmid_summary.tsv\n",
    "\n",
    "csvtk concat -t */*_contigs_summary/*_contigs_virus_summary.tsv \\\n",
    "> /group/ctbrowngrp2/amhorst/2025-pigparadigm/results/viral/250417_viral_summary.tsv\n",
    "\n"
   ]
  },
  {
   "cell_type": "code",
   "execution_count": null,
   "metadata": {},
   "outputs": [],
   "source": [
    "genomad end-to-end \\\n",
    "--cleanup --splits \\\n",
    "8 GCF_009025895.1.fna.gz \\\n",
    "genomad_output genomad_db"
   ]
  },
  {
   "cell_type": "code",
   "execution_count": null,
   "metadata": {},
   "outputs": [],
   "source": [
    "#GENOMAD\n",
    "# srun it, needs quite some mem\n",
    "srun --account=ctbrowngrp -p med2 -J rename -t 1:00:00 -c 30 --mem=40gb --pty bash\n",
    "\n",
    "# end to end for everything, need to annotate for classification\n",
    "# Use for taxonomy of DNA phage\n",
    "# softlink db\n",
    "ln -s /group/jbemersogrp/databases/genomad/genomad_db .\n",
    "\n",
    "# own genomad db\n",
    "/home/amhorst/databases/genomad/genomad_db\n",
    "\n",
    "# running \n",
    "srun --account=ctbrowngrp -p high2 -J gmd -t 12:00:00 -c 120 --mem=100gb --pty bash\n",
    "mamba activate branchwater-skipmer\n",
    "\n",
    "srun --account=ctbrowngrp -p high2 -J gmd -t 1:00:00 -c 25 --mem=20gb --pty bash\n",
    "mamba activate branchwater-skipmer\n",
    "\n",
    "snakemake \\\n",
    "-s genomad.smk \\\n",
    "--rerun-triggers mtime --rerun-incomplete \\\n",
    "--resources mem_mb=20000 -c 25 --use-conda \\\n",
    "-k -n\n"
   ]
  },
  {
   "cell_type": "code",
   "execution_count": null,
   "metadata": {},
   "outputs": [],
   "source": [
    "# without contigs:\n",
    "SRR11183349"
   ]
  },
  {
   "cell_type": "code",
   "execution_count": null,
   "metadata": {},
   "outputs": [],
   "source": [
    "# running atlas in a screen, still wil submit jobs to cluster\n",
    "srun --account=ctbrowngrp -p med2 -J vs2 -t 48:00:00 -c 36 --mem=50gb --pty bash\n",
    "mamba activate branchwater-skipmer\n",
    "\n",
    "snakemake \\\n",
    "-s virsorter2.smk \\\n",
    "--rerun-triggers mtime --rerun-incomplete \\\n",
    "--resources mem_mb=50000 -c 36 --use-conda \\\n",
    "-k -n\n"
   ]
  },
  {
   "cell_type": "code",
   "execution_count": null,
   "metadata": {},
   "outputs": [],
   "source": [
    "# another snakefile for renaming and using the quality tresh. \n",
    "\n",
    "# rename found vOTUs\n",
    "rule bbmap_rename_viral:\n",
    "    input: \n",
    "        check = \"../results/check/{sample}_vs2_done.check\"\n",
    "    output: \n",
    "        contigs = \"../results/virsorter2/contigs/{sample}_rename.fa\",\n",
    "        check = \"../results/check/{sample}_rename.check\"\n",
    "    log:\n",
    "        \"../results/logs/virsorter2/{sample}_rename.log\"\n",
    "    conda: \n",
    "        \"bbmap\"\n",
    "    shell:\n",
    "        \"\"\"\n",
    "    if [[ ! -e ../results/virsorter2/{wildcards.sample}/final-viral-combined.fa ]] \n",
    "    then\n",
    "        touch {output.contigs} \n",
    "    else\n",
    "        rename.sh in=../results/virsorter2/{wildcards.sample}/final-viral-combined.fa \\\n",
    "        out={output.contigs} prefix=AtH2023_{wildcards.sample}_viral && touch {output.check}\n",
    "    fi\n",
    "        \"\"\"\n",
    "\n",
    "\n"
   ]
  }
 ],
 "metadata": {
  "language_info": {
   "name": "python"
  }
 },
 "nbformat": 4,
 "nbformat_minor": 2
}
