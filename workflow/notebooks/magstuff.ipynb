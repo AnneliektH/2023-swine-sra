{
 "cells": [
  {
   "cell_type": "markdown",
   "metadata": {},
   "source": [
    "# how many mags etc\n",
    "- how many\n",
    "- what taxonomy\n",
    "- dereplication\n"
   ]
  },
  {
   "cell_type": "code",
   "execution_count": null,
   "metadata": {},
   "outputs": [],
   "source": []
  },
  {
   "cell_type": "code",
   "execution_count": null,
   "metadata": {},
   "outputs": [],
   "source": [
    "# taxonomy\n",
    "mamba activate csvtk\n",
    "csvtk concat *.tsv -t > ../250325_mag_taxonomy.tsv\n",
    "# quality\n",
    "csvtk concat  *.tsv -t > ../250325_mag_quality.tsv\n",
    "\n"
   ]
  },
  {
   "cell_type": "code",
   "execution_count": null,
   "metadata": {},
   "outputs": [],
   "source": [
    "import os\n",
    "import csv\n",
    "\n",
    "base_dir = os.getcwd()  # Current directory as base\n",
    "genomes_dir = os.path.join(base_dir, \"genomes\")\n",
    "taxonomy_dir = os.path.join(base_dir, \"taxonomy\")\n",
    "quality_dir = os.path.join(base_dir, \"genome_quality\")\n",
    "output_file = \"folder_summary.csv\"\n",
    "\n",
    "with open(output_file, \"w\", newline=\"\") as csvfile:\n",
    "    writer = csv.writer(csvfile)\n",
    "    writer.writerow([\"Folder\", \"Num_Items\", \"Taxonomy_Exists\", \"Quality_Exists\"])\n",
    "    \n",
    "    for subfolder in sorted(os.listdir(genomes_dir)):\n",
    "        subfolder_path = os.path.join(genomes_dir, subfolder)\n",
    "        \n",
    "        if os.path.isdir(subfolder_path):\n",
    "            num_items = len(os.listdir(subfolder_path))\n",
    "            taxonomy_file = os.path.join(taxonomy_dir, f\"gtdb_taxonomy_{subfolder}.tsv\")\n",
    "            quality_file = os.path.join(quality_dir, f\"genome_quality_{subfolder}.tsv\")\n",
    "            \n",
    "            taxonomy_exists = os.path.exists(taxonomy_file)\n",
    "            quality_exists = os.path.exists(quality_file)\n",
    "            \n",
    "            writer.writerow([subfolder, num_items, taxonomy_exists, quality_exists])\n",
    "\n",
    "print(f\"CSV saved as {output_file}\")\n"
   ]
  }
 ],
 "metadata": {
  "language_info": {
   "name": "python"
  }
 },
 "nbformat": 4,
 "nbformat_minor": 2
}
