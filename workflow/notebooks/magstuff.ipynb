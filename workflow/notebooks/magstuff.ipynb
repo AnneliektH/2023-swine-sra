{
 "cells": [
  {
   "cell_type": "markdown",
   "metadata": {},
   "source": [
    "# how many mags etc, for 810 SRAs, 10,544 MAGs\n",
    "- how many\n",
    "- what taxonomy\n",
    "- dereplication\n",
    "\n",
    "In: /group/ctbrowngrp2/scratch/annie/2023-swine-sra/results/MAGs/"
   ]
  },
  {
   "cell_type": "code",
   "execution_count": null,
   "metadata": {},
   "outputs": [],
   "source": [
    "# Symlink the MAGs to one folder, so we can easily run stuff\n",
    "# RGI and MINCED, mostly\n",
    "ln -s /group/ctbrowngrp2/scratch/annie/2023-swine-sra/results/MAGs/genomes/*/*.fasta ."
   ]
  },
  {
   "cell_type": "code",
   "execution_count": null,
   "metadata": {},
   "outputs": [],
   "source": [
    "# Now run the move mags snakefile\n",
    "srun --account=ctbrowngrp -p med2 -J mvmag -t 4:00:00 -c 4 --mem=50gb --pty bash\n",
    "mamba activate branchwater\n",
    "\n",
    "snakemake --use-conda --resources mem_mb=50000 --rerun-triggers mtime \\\n",
    "-c 1 --rerun-incomplete -k -s move_mags.smk -n"
   ]
  },
  {
   "cell_type": "code",
   "execution_count": null,
   "metadata": {},
   "outputs": [],
   "source": [
    "# run the python script to get info\n",
    "python /group/ctbrowngrp2/scratch/annie/2023-swine-sra/workflow/check_files.py \\\n",
    ". 250411_num_mags.csv"
   ]
  },
  {
   "cell_type": "code",
   "execution_count": null,
   "metadata": {},
   "outputs": [],
   "source": [
    "# taxonomy\n",
    "mamba activate csvtk\n",
    "csvtk concat *.tsv -t > ../250411_mag_taxonomy.tsv\n",
    "# quality\n",
    "csvtk concat  *.tsv -t > ../250411_mag_quality.tsv\n",
    "\n"
   ]
  },
  {
   "cell_type": "code",
   "execution_count": null,
   "metadata": {},
   "outputs": [],
   "source": []
  },
  {
   "cell_type": "code",
   "execution_count": null,
   "metadata": {},
   "outputs": [],
   "source": [
    "## Dereplicating, Using DREP. \n",
    "## Could either split the MAGs by taxonomy, or just let drep handle it. It may accept tax or quality file\n",
    "\n"
   ]
  }
 ],
 "metadata": {
  "language_info": {
   "name": "python"
  }
 },
 "nbformat": 4,
 "nbformat_minor": 2
}
