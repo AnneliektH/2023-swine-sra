{
 "cells": [
  {
   "cell_type": "markdown",
   "metadata": {},
   "source": [
    "## Viral taxonomy on pig vOTUs\n",
    "in sourmash/viral_taxonomy\n",
    "\n",
    "Will need to redo, because not all files taxed? weird. \n",
    "Do with both ICTV + genbank \n",
    "\n",
    "Steps:\n",
    "1) run a fastmultigather of all vOTUs against a viral taxonomy db. \n",
    "all vOTUs in: sig_files/signatures_concat/allvOTUs.zip\n",
    "2) do at different scales, so far we have 500 and 1000, see what the difference is between the 2. \n",
    "3) Use snakefile to go from fastmultigather to taxonomy. Update sourmash, see if now no normal gather needed?\n",
    "\n",
    "For the 500 ones, we need to sketch as sig.gz"
   ]
  },
  {
   "cell_type": "code",
   "execution_count": null,
   "metadata": {
    "vscode": {
     "languageId": "plaintext"
    }
   },
   "outputs": [],
   "source": [
    "## genbank\n",
    "/group/ctbrowngrp/sourmash-db/genbank-2022.03/genbank-2022.03-viral-k21.rocksdb \n",
    "\n",
    "Start with genbank, as file structure is easier:\n",
    "Taxonomy csv: \n",
    "/group/ctbrowngrp/sourmash-db/genbank-2022.03/genbank-2022.03-viral.lineages.csv.gz\n",
    "\n",
    "sourmash tax genome --gather-csv <gather_csv> [ ... ] --taxonomy-csv"
   ]
  },
  {
   "cell_type": "code",
   "execution_count": null,
   "metadata": {
    "vscode": {
     "languageId": "plaintext"
    }
   },
   "outputs": [],
   "source": [
    "# srun, activate everything\n",
    "srun --account=ctbrowngrp -p med2 -J mv -t 2:00:00 -c 24 --mem=20gb --pty bash\n",
    "\n",
    "mamba activate branchwater\n",
    "\n",
    "mkdir genbank_s1000\n",
    "cd genbank_s1000\n",
    "\n",
    "# run the fastmultigather\n",
    "sourmash scripts fastmultigather \\\n",
    "../votu_sigs_s1000.txt \\\n",
    "/group/ctbrowngrp/sourmash-db/genbank-2022.03/genbank-2022.03-viral-k21.zip \\\n",
    "-c 24 -k 21 -t 200"
   ]
  },
  {
   "cell_type": "markdown",
   "metadata": {},
   "source": [
    "## ictv\n",
    "/home/ntpierce/2023-spillover/output.vmr/vmr_MSL38_v1.dna.zip"
   ]
  },
  {
   "cell_type": "code",
   "execution_count": null,
   "metadata": {
    "vscode": {
     "languageId": "plaintext"
    }
   },
   "outputs": [],
   "source": [
    "# sketch vOTUs at different scales if neccesary\n",
    "for f in *.fa\n",
    "do\n",
    "echo sourmash sketch dna -p k=21,scaled=100,k=31,scaled=100,k=51,scaled=100 $f --name ${f%.fa*} -o ../sigs/${f%.fa*}.zip\n",
    "done | parallel -j 32"
   ]
  }
 ],
 "metadata": {
  "language_info": {
   "name": "python"
  }
 },
 "nbformat": 4,
 "nbformat_minor": 2
}
