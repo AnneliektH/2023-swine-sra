{
 "cells": [
  {
   "cell_type": "markdown",
   "metadata": {},
   "source": [
    "## Viral taxonomy on pig vOTUs\n",
    "\n",
    "in sourmash/viral_taxonomy\n",
    "\n",
    "Do with both ICTV + genbank \n",
    "\n",
    "Steps:\n",
    "1) run a fastmultigather of all vOTUs against a viral taxonomy db. \n",
    "all vOTUs in: sig_files/signatures_concat/allvOTUs.zip\n",
    "2) do at different scales, 100 and 1000, see what the difference is between the 2. \n",
    "3) Use snakefile to go from fastmultigather to taxonomy. Update sourmash, see if now no normal gather needed?\n",
    "\n",
    "Compare to vcontact2 output"
   ]
  },
  {
   "cell_type": "code",
   "execution_count": null,
   "metadata": {
    "vscode": {
     "languageId": "plaintext"
    }
   },
   "outputs": [],
   "source": [
    "# use the snake\n",
    "srun --account=ctbrowngrp -p med2 -J fmg -t 12:00:00 -c 30 --mem=60gb --pty bash\n",
    "snakemake --resources mem_mb=60000 --rerun-triggers mtime -c 30 --rerun-incomplete -k "
   ]
  },
  {
   "cell_type": "code",
   "execution_count": null,
   "metadata": {
    "vscode": {
     "languageId": "plaintext"
    }
   },
   "outputs": [],
   "source": [
    "## genbank\n",
    "/group/ctbrowngrp/sourmash-db/genbank-2022.03/genbank-2022.03-viral-k21.rocksdb \n",
    "\n",
    "Start with genbank, as file structure is easier:\n",
    "Taxonomy csv: \n",
    "/group/ctbrowngrp/sourmash-db/genbank-2022.03/genbank-2022.03-viral.lineages.csv.gz\n",
    "\n",
    "sourmash tax genome --gather-csv <gather_csv> [ ... ] --taxonomy-csv"
   ]
  },
  {
   "cell_type": "code",
   "execution_count": null,
   "metadata": {
    "vscode": {
     "languageId": "plaintext"
    }
   },
   "outputs": [],
   "source": [
    "# srun, activate everything\n",
    "srun --account=ctbrowngrp -p med2 -J fmg -t 12:00:00 -c 24 --mem=50gb --pty bash\n",
    "\n",
    "mamba activate branchwater\n",
    "\n",
    "mkdir genbank_s1000\n",
    "cd genbank_s1000\n",
    "\n",
    "# run the fastmultigather\n",
    "sourmash scripts fastmultigather \\\n",
    "../votu_sigs_s100.txt \\\n",
    "/home/ntpierce/2023-spillover/output.genbank-viral/genbank.2023-05.viral.dna.zip \\\n",
    "-c 24 -k 21 -t 200 -s 100\n",
    "\n",
    "\n"
   ]
  },
  {
   "cell_type": "markdown",
   "metadata": {},
   "source": [
    "## Rocksdb not working:\n",
    "- For the genbank one: Error: Invalid argument: Column family not found: metadata\n",
    "- For the ictv one: Error: No such file or directory (os error 2)"
   ]
  },
  {
   "cell_type": "code",
   "execution_count": null,
   "metadata": {
    "vscode": {
     "languageId": "plaintext"
    }
   },
   "outputs": [],
   "source": [
    "srun --account=ctbrowngrp -p med2 -J fmg -t 24:00:00 -c 24 --mem=70gb --pty bash\n",
    "\n",
    "mamba activate branchwater\n",
    "\n",
    "# test with rocksdb\n",
    "# run the fastmultigather\n",
    "sourmash scripts fastmultigather -c 24 -k 21 -t 3000 -s 1000 -o genbank_s1000.mfg.csv \\\n",
    "votu_sigs_s1000.txt \\\n",
    "/home/ntpierce/2023-spillover/output.genbank-viral/genbank.2023-05.viral.dna-k21-sc10.rocksdb\n",
    "\n",
    "genbank.2023-05.viral.dna-k21-sc100.rocksdb\n",
    "# ictv\n",
    "sourmash scripts fastmultigather -c 24 -k 21 -t 3000 -s 1000 -o ictv_s1000.mfg.csv \\\n",
    "votu_sigs_s1000.txt \\\n",
    "/home/ntpierce/2023-spillover/output.vmr/vmr_MSL38_v1.dna-k21-sc5.rocksdb\n",
    "\n",
    "# symlink\n",
    "ln -s /home/ntpierce/2023-spillover/output.vmr/vmr_MSL38_v1.dna-k21-sc200.rocksdb .\n",
    "vmr_MSL38_v1.dna-k21-sc200.rocksdb\n",
    "# if symlink doesnt work make own rocksdb"
   ]
  },
  {
   "cell_type": "code",
   "execution_count": null,
   "metadata": {
    "vscode": {
     "languageId": "plaintext"
    }
   },
   "outputs": [],
   "source": [
    "# because vcontact isnt updated with current python, use Chris old version\n",
    "source /home/csantosm/initconda\n",
    "conda activate VCONTACT2\n",
    "\n",
    "# Compare to vcontact2 output\n",
    "# prodigal file already avail\n",
    "# remove spaces from the headers..\n",
    "sed '/^>/ s/ .*//' ../../../virsorter2/protein_files >> tomato_pigeon_br_ns.faa\n",
    "\n",
    "\n",
    "# and gene2genome\n",
    "mamba activate vcontact2\n",
    "\n",
    "python vcontact_gene2genome.py -p 240214_allvOTUs_highq.ns.faa -o \\\n",
    "240214_allvOTUs_highqx.csv -s Prodigal-FAA\n",
    "\n",
    "# run vcontact2, 24 threads, 70GB, may need more\n",
    "\n",
    "vcontact2 --raw-proteins 240214_allvOTUs_highq.ns.faa \\\n",
    "--rel-mode 'Diamond' \\\n",
    "--db 'ProkaryoticViralRefSeq85-Merged' \\\n",
    "--proteins-fp 240214_allvOTUs_highq.csv \\\n",
    "--pcs-mode MCL \\\n",
    "--vcs-mode ClusterONE \\\n",
    "--threads 24 \\\n",
    "--c1-bin /home/csantosm/miniconda3/bin/cluster_one-1.0.jar \\\n",
    "--output-dir .\n"
   ]
  },
  {
   "cell_type": "code",
   "execution_count": null,
   "metadata": {
    "vscode": {
     "languageId": "plaintext"
    }
   },
   "outputs": [],
   "source": [
    "csvtk in\n",
    "csvtk concat *.tax.csv > ../ICTV_alltax_s100.csv"
   ]
  },
  {
   "cell_type": "markdown",
   "metadata": {},
   "source": [
    "## ictv\n",
    "/home/ntpierce/2023-spillover/output.vmr/vmr_MSL38_v1.dna.zip\n",
    "vmr_MSL38_v1.dna-k21-sc1.rocksdb  \n",
    "\n",
    "taxonomy:\n",
    "/home/ntpierce/2023-spillover/output.vmr/vmr_MSL38_v1.taxonomy.csv"
   ]
  },
  {
   "cell_type": "code",
   "execution_count": null,
   "metadata": {
    "vscode": {
     "languageId": "plaintext"
    }
   },
   "outputs": [],
   "source": [
    "# sketch vOTUs at different scales if neccesary\n",
    "for f in *.fa\n",
    "do\n",
    "echo sourmash sketch dna -p k=21,scaled=100 $f --name ${f%.fa*} -o ../../vOTUs_100/${f%.fa*}.sig.gz\n",
    "done | parallel -j 42\n",
    "&&\n",
    "for f in *.fa\n",
    "do\n",
    "echo sourmash sketch dna -p k=21,scaled=500 $f --name ${f%.fa*} -o ../../vOTUs_500/${f%.fa*}.sig.gz\n",
    "done | parallel -j 42"
   ]
  }
 ],
 "metadata": {
  "language_info": {
   "name": "python"
  }
 },
 "nbformat": 4,
 "nbformat_minor": 2
}
