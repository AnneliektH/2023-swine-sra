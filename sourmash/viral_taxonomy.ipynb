{
 "cells": [
  {
   "cell_type": "markdown",
   "metadata": {},
   "source": [
    "## Viral taxonomy on pig vOTUs\n",
    "\n",
    "in sourmash/viral_taxonomy\n",
    "\n",
    "Do with both ICTV + genbank \n",
    "\n",
    "Steps:\n",
    "1) run a fastmultigather of all vOTUs against a viral taxonomy db. \n",
    "all vOTUs in: sig_files/signatures_concat/allvOTUs.zip\n",
    "2) do at different scales, 100 and 1000, see what the difference is between the 2. \n",
    "3) Use snakefile to go from fastmultigather to taxonomy. \n",
    "\n",
    "Compare to vcontact2 output and genomad output"
   ]
  },
  {
   "cell_type": "markdown",
   "metadata": {},
   "source": [
    "### Sourmash:\n",
    "- genbank\n",
    "- ictv\n",
    "- scaled 100 and 1000\n"
   ]
  },
  {
   "cell_type": "code",
   "execution_count": null,
   "metadata": {
    "vscode": {
     "languageId": "plaintext"
    }
   },
   "outputs": [],
   "source": [
    "sourmash scripts fastmultigather \\\n",
    "sig.txt \\\n",
    "GCA_018585365.k31.rocksdb \\\n",
    "-k 31 -t 1000 -s 1000\n"
   ]
  },
  {
   "cell_type": "code",
   "execution_count": null,
   "metadata": {
    "vscode": {
     "languageId": "plaintext"
    }
   },
   "outputs": [],
   "source": [
    "# symlink the dbs\n",
    "# symlink\n",
    "ln -s /path/to/db/ .\n",
    "\n",
    "# genbank db and taxonomy file:\n",
    "/home/ntpierce/2023-spillover/output.genbank-viral/genbank.2023-05.viral.dna.zip\n",
    "/group/ctbrowngrp/sourmash-db/genbank-2022.03/genbank-2022.03-viral.lineages.csv.gz\n",
    "\n",
    "# ICTV dbs and tax file\n",
    "/home/ntpierce/2023-spillover/output.vmr/\n",
    "/home/ntpierce/2023-spillover/output.vmr/vmr_MSL38_v1.taxonomy.csv\n",
    "\n",
    "# try the rocksdbs"
   ]
  },
  {
   "cell_type": "markdown",
   "metadata": {},
   "source": [
    "## ICTV\n",
    "- run against ictv tax\n",
    "- use scale 100\n",
    "- use scale 1000\n",
    "\n",
    "For now just use a bp treshold of 0, can always adjust later. maybe use csvtk to subset results, or python"
   ]
  },
  {
   "cell_type": "code",
   "execution_count": null,
   "metadata": {
    "vscode": {
     "languageId": "plaintext"
    }
   },
   "outputs": [],
   "source": [
    "# run fastmultigather with sc100 and sc1000\n",
    "cd ICTV\n",
    "mkdir sc100\n",
    "mkdir sc1000\n",
    "\n",
    "# symlink\n",
    "ln -s /home/ntpierce/2023-spillover/output.vmr/vmr_MSL38_v1.dna.k21.zip\n",
    "\n",
    "# do srun\n",
    "srun --account=ctbrowngrp -p med2 -J fmg_gb -t 5:00:00 -c 48 --mem=70gb --pty bash\n",
    "\n",
    "mamba activate branchwater\n",
    "\n",
    "# run the fastmultigather\n",
    "cd sc100\n",
    "sourmash scripts fastmultigather \\\n",
    "../../votu_sigs_s100.txt \\\n",
    "../vmr_MSL38_v1.dna.k21.zip \\\n",
    "-c 48 -k 21 -t 0 -s 100\n",
    "\n",
    "cd sc1000\n",
    "sourmash scripts fastmultigather \\\n",
    "../../votu_sigs_s100.txt \\\n",
    "../vmr_MSL38_v1.dna.k21.zip \\\n",
    "-c 48 -k 21 -t 0 -s 1000"
   ]
  },
  {
   "cell_type": "code",
   "execution_count": null,
   "metadata": {
    "vscode": {
     "languageId": "plaintext"
    }
   },
   "outputs": [],
   "source": [
    "# genbank\n",
    "# run the fastmultigather\n",
    "cd sc100\n",
    "sourmash scripts fastmultigather \\\n",
    "../../votu_sigs_s100.txt \\\n",
    "../genbank.2023-05.viral.dna.zip \\\n",
    "-c 48 -k 21 -t 300 -s 100\n",
    "\n",
    "cd sc1000\n",
    "sourmash scripts fastmultigather \\\n",
    "../../votu_sigs_s100.txt \\\n",
    "../vmr_MSL38_v1.dna.k21.zip \\\n",
    "-c 48 -k 21 -t 0 -s 1000"
   ]
  },
  {
   "cell_type": "code",
   "execution_count": null,
   "metadata": {
    "vscode": {
     "languageId": "plaintext"
    }
   },
   "outputs": [],
   "source": [
    "ls . | grep 'fullgather' | wc -l"
   ]
  },
  {
   "cell_type": "code",
   "execution_count": null,
   "metadata": {
    "vscode": {
     "languageId": "plaintext"
    }
   },
   "outputs": [],
   "source": [
    "# sourmash tax\n",
    "sourmash tax genome --gather-csv <gather_csv> [ ... ] --taxonomy-csv"
   ]
  },
  {
   "cell_type": "markdown",
   "metadata": {},
   "source": [
    "## Rocksdb not working:\n",
    "- For the genbank one: Error: Invalid argument: Column family not found: metadata\n",
    "- For the ictv one: Error: No such file or directory (os error 2)"
   ]
  },
  {
   "cell_type": "markdown",
   "metadata": {},
   "source": [
    "## vCONTACT2\n",
    "- vContact2 is no longer supported, so current installations give bugs in python code\n",
    "- Java installation doesnt work, maybe try --vcs-mode MCL instead of the java option"
   ]
  },
  {
   "cell_type": "code",
   "execution_count": null,
   "metadata": {
    "vscode": {
     "languageId": "plaintext"
    }
   },
   "outputs": [],
   "source": [
    "# because vcontact isnt updated with current python, use Chris old version\n",
    "source /home/csantosm/initconda\n",
    "conda activate VCONTACT2\n",
    "\n",
    "# Compare to vcontact2 output\n",
    "# prodigal file already avail\n",
    "# remove spaces from the headers..\n",
    "sed '/^>/ s/ .*//' ../../../virsorter2/protein_files >> tomato_pigeon_br_ns.faa\n",
    "\n",
    "\n",
    "# and gene2genome\n",
    "mamba activate vcontact2\n",
    "\n",
    "python vcontact_gene2genome.py -p 240214_allvOTUs_highq.ns.faa -o \\\n",
    "240214_allvOTUs_highqx.csv -s Prodigal-FAA\n",
    "\n",
    "# run vcontact2, 24 threads, 70GB, may need more\n",
    "srun --account=ctbrowngrp -p bmm -J vcontact -t 16:00:00 -c 36 --mem=70gb --pty bash\n",
    "\n",
    "\n",
    "vcontact2 --raw-proteins 240214_allvOTUs_highq.ns.faa \\\n",
    "--rel-mode 'Diamond' \\\n",
    "--db 'ProkaryoticViralRefSeq85-Merged' \\\n",
    "--proteins-fp 240214_allvOTUs_highq.csv \\\n",
    "--pcs-mode MCL \\\n",
    "--vcs-mode ClusterONE \\\n",
    "--threads 24 \\\n",
    "--c1-bin /home/csantosm/miniconda3/bin/cluster_one-1.0.jar \\\n",
    "--output-dir .\n",
    "\n",
    "# if vcontact fails, try with clusterOne (in vcontact2_redo):\n",
    "vcontact2 --threads 24 \\\n",
    "--pcs vcontact2/vConTACT_pcs.csv \\\n",
    "--contigs vcontact2/vConTACT_contigs.csv \\\n",
    "--pc-profiles vcontact2/vConTACT_profiles.csv \\\n",
    "--vcs-mode ClusterONE \\\n",
    "--c1-bin /home/csantosm/miniconda3/bin/cluster_one-1.0.jar \\\n",
    "--db 'ProkaryoticViralRefSeq85-Merged' --output-dir vcontact2_redo\n",
    "\n",
    "# if vcontact fails, try with MCL (in vcontact2_redp):\n",
    "vcontact2 --threads 36 \\\n",
    "--pcs vcontact2/vConTACT_pcs.csv \\\n",
    "--contigs vcontact2/vConTACT_contigs.csv \\\n",
    "--pc-profiles vcontact2/vConTACT_profiles.csv \\\n",
    "--vcs-mode MCL \\\n",
    "--c1-bin /home/csantosm/miniconda3/bin/cluster_one-1.0.jar \\\n",
    "--db 'ProkaryoticViralRefSeq85-Merged' --output-dir vcontact2_mcl\n",
    "\n"
   ]
  },
  {
   "cell_type": "markdown",
   "metadata": {},
   "source": [
    "### genomad\n",
    "- Uses ICTV taxonomy (vmr 19)\n",
    "- I think we only need genomad aggregated-classification\n"
   ]
  },
  {
   "cell_type": "code",
   "execution_count": null,
   "metadata": {
    "vscode": {
     "languageId": "plaintext"
    }
   },
   "outputs": [],
   "source": [
    "# db in the emersonlab, symlink that and the vOTU file:\n",
    "ln -s /group/jbemersogrp/databases/genomad/genomad_db .\n",
    "\n",
    "# srun it, needs quite some mem\n",
    "srun --account=ctbrowngrp -p bmm -J genomad -t 64:00:00 -c 8 --mem=100gb --pty bash\n",
    "\n",
    "# end to end for everything, need to annotate for classification\n",
    "mamba activate genomad\n",
    "genomad end-to-end --threads 8 --enable-score-calibration \\\n",
    "240214_allvOTUs_highq.fa genomad_out genomad_db --splits 3\n",
    "\n"
   ]
  },
  {
   "cell_type": "code",
   "execution_count": null,
   "metadata": {
    "vscode": {
     "languageId": "plaintext"
    }
   },
   "outputs": [],
   "source": [
    "# sketch vOTUs at different scales if neccesary \n",
    "# (not neccesary cause the scaled 100 should be able to scale up to 1000)\n",
    "for f in *.fa\n",
    "do\n",
    "echo sourmash sketch dna -p k=21,scaled=100 $f --name ${f%.fa*} -o ../../vOTUs_100/${f%.fa*}.sig.gz\n",
    "done | parallel -j 42\n",
    "&&\n",
    "for f in *.fa\n",
    "do\n",
    "echo sourmash sketch dna -p k=21,scaled=1000 $f --name ${f%.fa*} -o ../../vOTUs_1000/${f%.fa*}.sig.gz\n",
    "done | parallel -j 42"
   ]
  },
  {
   "cell_type": "code",
   "execution_count": null,
   "metadata": {
    "vscode": {
     "languageId": "plaintext"
    }
   },
   "outputs": [],
   "source": [
    "# use snakemake file\n",
    "srun --account=ctbrowngrp -p med2 -J fmg -t 12:00:00 -c 30 --mem=60gb --pty bash\n",
    "snakemake --resources mem_mb=60000 --rerun-triggers mtime -c 30 --rerun-incomplete -k --latency-wait 1\n"
   ]
  }
 ],
 "metadata": {
  "language_info": {
   "name": "python"
  }
 },
 "nbformat": 4,
 "nbformat_minor": 2
}
