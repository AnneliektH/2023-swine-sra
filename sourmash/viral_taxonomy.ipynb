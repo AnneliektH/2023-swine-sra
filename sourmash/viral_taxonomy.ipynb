{
 "cells": [
  {
   "cell_type": "markdown",
   "metadata": {},
   "source": [
    "## Viral taxonomy on pig vOTUs\n",
    "\n",
    "in sourmash/viral_taxonomy\n",
    "\n",
    "Do with both ICTV + genbank \n",
    "\n",
    "Steps:\n",
    "1) run a fastmultigather of all vOTUs against a viral taxonomy db. \n",
    "all vOTUs in: sig_files/signatures_concat/allvOTUs.zip\n",
    "2) do at different scales, 100 and 1000, see what the difference is between the 2. \n",
    "3) Use snakefile to go from fastmultigather to taxonomy. \n",
    "\n",
    "Compare to vcontact2 output and genomad output"
   ]
  },
  {
   "cell_type": "markdown",
   "metadata": {},
   "source": [
    "### Sourmash:\n",
    "- genbank\n",
    "- ictv\n",
    "- scaled 100 and 1000\n"
   ]
  },
  {
   "cell_type": "code",
   "execution_count": null,
   "metadata": {
    "vscode": {
     "languageId": "plaintext"
    }
   },
   "outputs": [],
   "source": [
    "sourmash scripts fastmultigather \\\n",
    "sig.txt \\\n",
    "GCA_018585365.k31.rocksdb \\\n",
    "-k 31 -t 1000 -s 1000\n"
   ]
  },
  {
   "cell_type": "code",
   "execution_count": null,
   "metadata": {
    "vscode": {
     "languageId": "plaintext"
    }
   },
   "outputs": [],
   "source": [
    "# symlink the dbs\n",
    "# symlink\n",
    "ln -s /path/to/db/ .\n",
    "\n",
    "# genbank db and taxonomy file:\n",
    "/home/ntpierce/2023-spillover/output.genbank-viral/genbank.2023-05.viral.dna.zip\n",
    "/home/ntpierce/database-releases/genbank-2023.05/viral.lineages.csv\n",
    "\n",
    "# ICTV dbs and tax file\n",
    "/home/ntpierce/2023-spillover/output.vmr/\n",
    "/home/ntpierce/2023-spillover/output.vmr/vmr_MSL38_v1.taxonomy.csv\n",
    "\n",
    "# try the rocksdbs"
   ]
  },
  {
   "cell_type": "markdown",
   "metadata": {},
   "source": [
    "## ICTV\n",
    "- run against ictv tax\n",
    "- use scale 100\n",
    "- use scale 1000\n",
    "\n",
    "For now just use a bp treshold of 0, can always adjust later. Can subset tax results on bp_match_at_rank"
   ]
  },
  {
   "cell_type": "code",
   "execution_count": null,
   "metadata": {
    "vscode": {
     "languageId": "plaintext"
    }
   },
   "outputs": [],
   "source": [
    "# run fastmultigather with sc100 and sc1000\n",
    "cd ICTV\n",
    "mkdir sc100\n",
    "mkdir sc1000\n",
    "\n",
    "# symlink\n",
    "ln -s /home/ntpierce/2023-spillover/output.vmr/vmr_MSL38_v1.dna.k21.zip\n",
    "\n",
    "# do srun\n",
    "srun --account=ctbrowngrp -p med2 -J fmg_gb -t 3:00:00 -c 36 --mem=70gb --pty bash\n",
    "\n",
    "mamba activate branchwater\n",
    "\n",
    "# run the fastmultigather\n",
    "cd sc100\n",
    "sourmash scripts fastmultigather \\\n",
    "../../votu_sigs_s100.txt \\\n",
    "../vmr_MSL38_v1.dna.k21.zip \\\n",
    "-c 48 -k 21 -t 0 -s 100\n"
   ]
  },
  {
   "cell_type": "code",
   "execution_count": null,
   "metadata": {
    "vscode": {
     "languageId": "plaintext"
    }
   },
   "outputs": [],
   "source": [
    "# genbank\n",
    "# run the fastmultigather\n",
    "\n",
    "cd sc100\n",
    "sourmash scripts fastmultigather \\\n",
    "../../votu_sigs_s100.txt \\\n",
    "../vmr_MSL38_v1.dna.k21.zip \\\n",
    "-c 48 -k 21 -t 0 -s 100\n",
    "\n",
    "\n",
    "## redo with rocksdb, in the folder where the symlink is\n",
    "srun --account=ctbrowngrp -p med2 -J fmg_gb -t 6:00:00 -c 4 --mem=100gb --pty bash\n",
    "mamba activate branchwater\n",
    "/usr/bin/time -v sourmash scripts fastmultigather \\\n",
    "votu_sigs_00.txt \\\n",
    "genbank.2023-05.viral.dna-k21-sc100.rocksdb \\\n",
    "-c 4 -k 21 -t 300 -s 100 -o votus.x.genbank.csv"
   ]
  },
  {
   "cell_type": "markdown",
   "metadata": {},
   "source": [
    "## Rocksdb taking a lot of mem\n",
    "- try with a zip instead of a txt file\n",
    "- use the time command to track amount of mem it needs\n",
    "\n",
    "Opened an issue:\n",
    "https://github.com/sourmash-bio/sourmash_plugin_branchwater/issues/273"
   ]
  },
  {
   "cell_type": "code",
   "execution_count": null,
   "metadata": {
    "vscode": {
     "languageId": "plaintext"
    }
   },
   "outputs": [],
   "source": [
    "# split the vOTU sigs into smaller files, maybe that helps\n",
    "split -l 1000 -d --additional-suffix=.txt ../votu_sigs_s100.txt votu_sigs_"
   ]
  },
  {
   "cell_type": "code",
   "execution_count": null,
   "metadata": {
    "vscode": {
     "languageId": "plaintext"
    }
   },
   "outputs": [],
   "source": [
    "# try rocksdb again, give it like 300GB, increase treshold, no threads param\n",
    "srun --account=ctbrowngrp -p high2 -J fmg_gb -t 24:00:00 -c 4 --mem=300gb --pty bash\n",
    "\n",
    "cd /home/ntpierce/2023-spillover/output.genbank-viral/ \n",
    "mamba activate branchwater\n",
    "/usr/bin/time -v sourmash scripts fastmultigather \\\n",
    "/group/ctbrowngrp2/scratch/annie/2023-swine-sra/sourmash/sig_files/signatures_concat/vOTUs.k21.s100.zip \\\n",
    "genbank.2023-05.viral.dna-k21-sc100.rocksdb -k 21 -s 100 -o \\\n",
    "/group/ctbrowngrp2/scratch/annie/2023-swine-sra/sourmash/viral_taxonomy/genbank/votus.x.genbank.csv -t 300"
   ]
  },
  {
   "cell_type": "code",
   "execution_count": null,
   "metadata": {
    "vscode": {
     "languageId": "plaintext"
    }
   },
   "outputs": [],
   "source": [
    "# for against a protein db we will need protein predictions\n",
    "srun --account=ctbrowngrp -p bmm -J prodigal -t 3:00:00 -c 24 --mem=30gb --pty bash\n",
    "# in ./virsorter2/\n",
    "mamba activate prodigal\n",
    "for f in *.fa\n",
    "do \n",
    "prodigal -i $f -a ../../vOTUs_prot/${f%.fa*}.faa -p meta -q\n",
    "done\n",
    "\n",
    "# Then sourmash sketch the files at k=10, scaled=100\n",
    "for f in *.faa\n",
    "do\n",
    "sourmash sketch protein -p k=7,scaled=100,noabund,k=10,scaled=100,noabund $f \\\n",
    "-o ../prot_sketches/votus/${f%.faa*}.sig.gz\n",
    "done\n",
    "\n",
    "\n",
    "module load parallel\n",
    "mamba activate branchwater\n",
    "\n",
    "for f in *.faa\n",
    "do\n",
    "echo sourmash sketch protein -p k=7,scaled=100,noabund,k=10,scaled=100,noabund $f \\\n",
    "--name ${f%.faa*} -o ../prot_sketches/votus/${f%.faa*}.sig.gz\n",
    "done | parallel -j 24"
   ]
  },
  {
   "cell_type": "code",
   "execution_count": null,
   "metadata": {
    "vscode": {
     "languageId": "plaintext"
    }
   },
   "outputs": [],
   "source": [
    "srun --account=ctbrowngrp -p med2 -J fmg_gb -t 1:00:00 -c 4 --mem=50gb --pty bash\n",
    "\n",
    "# concat all sigs to a zip\n",
    "sourmash sig cat *.sig.gz -o ../signatures_concat/vOTUs.k21.s100.zip\n",
    "\n",
    "# symlink\n",
    "ln -s ../../sig_files/signatures_concat/vOTUs.k21.s100.zip .\n",
    "\n",
    "# use these\n",
    "mamba activate branchwater\n",
    "for f in /group/ctbrowngrp2/scratch/annie/2023-swine-sra/sourmash/viral_taxonomy/genbank/votu_sigs_00.txt\n",
    "do\n",
    "echo $f\n",
    "sourmash scripts fastmultigather \\\n",
    "$f \\\n",
    "genbank.2023-05.viral.dna-k21-sc100.rocksdb \\\n",
    "-c 4 -k 21 -t 1000 -s 100 \\\n",
    "-o /group/ctbrowngrp2/scratch/annie/2023-swine-sra/sourmash/viral_taxonomy/genbank/votu_sigs_00.x.genbank.csv\n",
    "done\n",
    "\n",
    "\n",
    "/usr/bin/time -v sourmash scripts fastmultigather \\\n",
    "/group/ctbrowngrp2/scratch/annie/2023-swine-sra/sourmash/viral_taxonomy/genbank/votu_sigs_00.txt \\\n",
    "genbank.2023-05.viral.dna-k21-sc100.rocksdb -c 4 -k 21 -s 100 -o \\\n",
    "/group/ctbrowngrp2/scratch/annie/2023-swine-sra/sourmash/viral_taxonomy/genbank/votus.x.genbank.csv -t 1000\n",
    "\n",
    "/usr/bin/time -v "
   ]
  },
  {
   "cell_type": "code",
   "execution_count": null,
   "metadata": {
    "vscode": {
     "languageId": "plaintext"
    }
   },
   "outputs": [],
   "source": [
    "# sourmash tax\n",
    "sourmash tax genome --gather-csv <gather_csv> [ ... ] --taxonomy-csv"
   ]
  },
  {
   "cell_type": "markdown",
   "metadata": {},
   "source": [
    "## For using a rocksdb:\n",
    "- Symlink the rocksdb directly to the folder youre running fmg in\n",
    "- Or run the command from the folder that the rocksdb lives in \n"
   ]
  },
  {
   "cell_type": "markdown",
   "metadata": {},
   "source": [
    "## vCONTACT2\n",
    "- vContact2 is no longer supported, so current installations give bugs in python code\n",
    "- Java installation doesnt work, maybe try --vcs-mode MCL instead of the java option"
   ]
  },
  {
   "cell_type": "code",
   "execution_count": null,
   "metadata": {
    "vscode": {
     "languageId": "plaintext"
    }
   },
   "outputs": [],
   "source": [
    "# because vcontact isnt updated with current python, use Chris old version\n",
    "source /home/csantosm/initconda\n",
    "conda activate VCONTACT2\n",
    "\n",
    "# Compare to vcontact2 output\n",
    "# prodigal file already avail\n",
    "# remove spaces from the headers..\n",
    "sed '/^>/ s/ .*//' ../../../virsorter2/protein_files >> tomato_pigeon_br_ns.faa\n",
    "\n",
    "\n",
    "# and gene2genome\n",
    "mamba activate vcontact2\n",
    "\n",
    "python vcontact_gene2genome.py -p 240214_allvOTUs_highq.ns.faa -o \\\n",
    "240214_allvOTUs_highqx.csv -s Prodigal-FAA\n",
    "\n",
    "# run vcontact2, 24 threads, 70GB, may need more\n",
    "srun --account=ctbrowngrp -p bmm -J vcontact -t 16:00:00 -c 36 --mem=70gb --pty bash\n",
    "\n",
    "\n",
    "vcontact2 --raw-proteins 240214_allvOTUs_highq.ns.faa \\\n",
    "--rel-mode 'Diamond' \\\n",
    "--db 'ProkaryoticViralRefSeq85-Merged' \\\n",
    "--proteins-fp 240214_allvOTUs_highq.csv \\\n",
    "--pcs-mode MCL \\\n",
    "--vcs-mode ClusterONE \\\n",
    "--threads 24 \\\n",
    "--c1-bin /home/csantosm/miniconda3/bin/cluster_one-1.0.jar \\\n",
    "--output-dir .\n",
    "\n",
    "# if vcontact fails, try with clusterOne (in vcontact2_redo):\n",
    "vcontact2 --threads 24 \\\n",
    "--pcs vcontact2/vConTACT_pcs.csv \\\n",
    "--contigs vcontact2/vConTACT_contigs.csv \\\n",
    "--pc-profiles vcontact2/vConTACT_profiles.csv \\\n",
    "--vcs-mode ClusterONE \\\n",
    "--c1-bin /home/csantosm/miniconda3/bin/cluster_one-1.0.jar \\\n",
    "--db 'ProkaryoticViralRefSeq85-Merged' --output-dir vcontact2_redo\n",
    "\n",
    "# if vcontact fails, try with MCL (in vcontact2_redp):\n",
    "vcontact2 --threads 36 \\\n",
    "--pcs vcontact2/vConTACT_pcs.csv \\\n",
    "--contigs vcontact2/vConTACT_contigs.csv \\\n",
    "--pc-profiles vcontact2/vConTACT_profiles.csv \\\n",
    "--vcs-mode MCL \\\n",
    "--c1-bin /home/csantosm/miniconda3/bin/cluster_one-1.0.jar \\\n",
    "--db 'ProkaryoticViralRefSeq85-Merged' --output-dir vcontact2_mcl\n",
    "\n"
   ]
  },
  {
   "cell_type": "markdown",
   "metadata": {},
   "source": [
    "### genomad\n",
    "- Uses ICTV taxonomy (vmr 19)\n",
    "- I think we only need genomad aggregated-classification\n"
   ]
  },
  {
   "cell_type": "code",
   "execution_count": null,
   "metadata": {
    "vscode": {
     "languageId": "plaintext"
    }
   },
   "outputs": [],
   "source": [
    "# db in the emersonlab, symlink that and the vOTU file:\n",
    "ln -s /group/jbemersogrp/databases/genomad/genomad_db .\n",
    "\n",
    "# srun it, needs quite some mem\n",
    "srun --account=ctbrowngrp -p bmm -J genomad -t 1:00:00 -c 6 --mem=20gb --pty bash\n",
    "\n",
    "# end to end for everything, need to annotate for classification\n",
    "mamba activate genomad\n",
    "genomad end-to-end --threads 6 --enable-score-calibration \\\n",
    "200bp.fa genomad_out_200bp genomad_db --splits 3\n",
    "\n"
   ]
  },
  {
   "cell_type": "code",
   "execution_count": null,
   "metadata": {
    "vscode": {
     "languageId": "plaintext"
    }
   },
   "outputs": [],
   "source": [
    "# sketch vOTUs at different scales if neccesary \n",
    "# (not neccesary cause the scaled 100 should be able to scale up to 1000)\n",
    "for f in *.fa\n",
    "do\n",
    "echo sourmash sketch dna -p k=21,scaled=100 $f --name ${f%.fa*} -o ../../vOTUs_100/${f%.fa*}.sig.gz\n",
    "done | parallel -j 42\n",
    "&&\n",
    "for f in *.fa\n",
    "do\n",
    "echo sourmash sketch dna -p k=21,scaled=1000 $f --name ${f%.fa*} -o ../../vOTUs_1000/${f%.fa*}.sig.gz\n",
    "done | parallel -j 42"
   ]
  },
  {
   "cell_type": "code",
   "execution_count": null,
   "metadata": {
    "vscode": {
     "languageId": "plaintext"
    }
   },
   "outputs": [],
   "source": [
    "# use snakemake file\n",
    "srun --account=ctbrowngrp -p med2 -J gathertax -t 5:00:00 -c 48 --mem=40gb --pty bash\n",
    "snakemake --resources mem_mb=40000 --rerun-triggers mtime -c 48 --rerun-incomplete -k --latency-wait 1\n"
   ]
  }
 ],
 "metadata": {
  "language_info": {
   "name": "python"
  }
 },
 "nbformat": 4,
 "nbformat_minor": 2
}
